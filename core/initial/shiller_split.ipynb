{
  "nbformat": 4,
  "nbformat_minor": 0,
  "metadata": {
    "colab": {
      "name": "shiller_split.ipynb",
      "provenance": [],
      "collapsed_sections": [],
      "mount_file_id": "https://github.com/sid-ak/jphomevalue/blob/CD-33-Forecast-Model-Component/core/shiller_split.ipynb",
      "authorship_tag": "ABX9TyOynMZWfbLiOqOck+fhZSD0",
      "include_colab_link": true
    },
    "kernelspec": {
      "name": "python3",
      "display_name": "Python 3"
    },
    "language_info": {
      "name": "python"
    }
  },
  "cells": [
    {
      "cell_type": "markdown",
      "metadata": {
        "id": "view-in-github",
        "colab_type": "text"
      },
      "source": [
        "<a href=\"https://colab.research.google.com/github/sid-ak/jphomevalue/blob/CD-33-Forecast-Model-Component/core/shiller_split.ipynb\" target=\"_parent\"><img src=\"https://colab.research.google.com/assets/colab-badge.svg\" alt=\"Open In Colab\"/></a>"
      ]
    },
    {
      "cell_type": "markdown",
      "source": [
        "# Backend DB Integration"
      ],
      "metadata": {
        "id": "zXVjjMexzJwW"
      }
    },
    {
      "cell_type": "code",
      "source": [
        "!pip install firebase-admin"
      ],
      "metadata": {
        "id": "7DT2mR7czREk"
      },
      "execution_count": null,
      "outputs": []
    },
    {
      "cell_type": "code",
      "source": [
        "# Imports\n",
        "import firebase_admin\n",
        "from firebase_admin import credentials\n",
        "from firebase_admin import db"
      ],
      "metadata": {
        "id": "WhXu7a-gzqnK"
      },
      "execution_count": null,
      "outputs": []
    },
    {
      "cell_type": "markdown",
      "source": [
        "# Firebase Config\n",
        "These creds won't work.\n",
        "You can find your creds in the following link. <br>\n",
        "https://drive.google.com/drive/u/0/folders/1PcGWxfJ4TguFFfV4L0MstTbn2uAAjb_o <br>\n",
        "This just serves as an example for the path. <br>\n",
        "\n"
      ],
      "metadata": {
        "id": "SMoxVEIA0CO7"
      }
    },
    {
      "cell_type": "code",
      "source": [
        "# Get ceredentials through service account.\n",
        "cred = credentials.Certificate(\"/content/drive/MyDrive/jphomevalue/jphomevalue-firebase-adminsdk-g1kd5-dcefd13eb1.json\")\n",
        "# Initialize the app with a service account, granting admin privileges.\n",
        "firebase_admin.initialize_app(cred)"
      ],
      "metadata": {
        "id": "UVVYSXKl0Fnt"
      },
      "execution_count": null,
      "outputs": []
    },
    {
      "cell_type": "markdown",
      "source": [
        "# Create Ref DB"
      ],
      "metadata": {
        "id": "hqCzxjzj3zUX"
      }
    },
    {
      "cell_type": "code",
      "source": [
        "ref = db.reference(url='https://jphomevalue-default-rtdb.firebaseio.com/')\n",
        "ref.get()"
      ],
      "metadata": {
        "colab": {
          "base_uri": "https://localhost:8080/"
        },
        "id": "aAw03x2t3b8Q",
        "outputId": "2f6b4a7f-fcd8-46bd-95a0-f67507adf1c9"
      },
      "execution_count": null,
      "outputs": [
        {
          "output_type": "execute_result",
          "data": {
            "text/plain": [
              "[{'DATE': '2002-01-01', 'TPXRSA': 120.39579298067301},\n",
              " {'DATE': '2002-02-01', 'TPXRSA': 120.70003351737302},\n",
              " {'DATE': '2002-03-01', 'TPXRSA': 122.958146804667},\n",
              " {'DATE': '2002-04-01', 'TPXRSA': 123.707047327969},\n",
              " {'DATE': '2002-05-01', 'TPXRSA': 124.950321418552},\n",
              " {'DATE': '2002-06-01', 'TPXRSA': 125.597677843222},\n",
              " {'DATE': '2002-07-01', 'TPXRSA': 126.853260756778},\n",
              " {'DATE': '2002-08-01', 'TPXRSA': 127.753579001549},\n",
              " {'DATE': '2002-09-01', 'TPXRSA': 128.573840166495},\n",
              " {'DATE': '2002-10-01', 'TPXRSA': 129.20078065653},\n",
              " {'DATE': '2002-11-01', 'TPXRSA': 130.256535719701},\n",
              " {'DATE': '2002-12-01', 'TPXRSA': 131.830378013638},\n",
              " {'DATE': '2003-01-01', 'TPXRSA': 133.271389035007},\n",
              " {'DATE': '2003-02-01', 'TPXRSA': 134.661895908838},\n",
              " {'DATE': '2003-03-01', 'TPXRSA': 135.520304973853},\n",
              " {'DATE': '2003-04-01', 'TPXRSA': 136.626738169342},\n",
              " {'DATE': '2003-05-01', 'TPXRSA': 138.117429597589},\n",
              " {'DATE': '2003-06-01', 'TPXRSA': 138.665744347527},\n",
              " {'DATE': '2003-07-01', 'TPXRSA': 139.35188070465298},\n",
              " {'DATE': '2003-08-01', 'TPXRSA': 139.700290122979},\n",
              " {'DATE': '2003-09-01', 'TPXRSA': 141.864562576138},\n",
              " {'DATE': '2003-10-01', 'TPXRSA': 143.285166166052},\n",
              " {'DATE': '2003-11-01', 'TPXRSA': 144.876410232503},\n",
              " {'DATE': '2003-12-01', 'TPXRSA': 145.232763283726},\n",
              " {'DATE': '2004-01-01', 'TPXRSA': 147.99906303094602},\n",
              " {'DATE': '2004-02-01', 'TPXRSA': 149.51322406724302},\n",
              " {'DATE': '2004-03-01', 'TPXRSA': 152.668746306829},\n",
              " {'DATE': '2004-04-01', 'TPXRSA': 153.227857240319},\n",
              " {'DATE': '2004-05-01', 'TPXRSA': 155.36340985248},\n",
              " {'DATE': '2004-06-01', 'TPXRSA': 157.834042687855},\n",
              " {'DATE': '2004-07-01', 'TPXRSA': 159.950267616317},\n",
              " {'DATE': '2004-08-01', 'TPXRSA': 162.578638099149},\n",
              " {'DATE': '2004-09-01', 'TPXRSA': 165.082919744496},\n",
              " {'DATE': '2004-10-01', 'TPXRSA': 167.959497857763},\n",
              " {'DATE': '2004-11-01', 'TPXRSA': 170.58815743621702},\n",
              " {'DATE': '2004-12-01', 'TPXRSA': 173.570296042773},\n",
              " {'DATE': '2005-01-01', 'TPXRSA': 177.24226327497502},\n",
              " {'DATE': '2005-02-01', 'TPXRSA': 180.835712492684},\n",
              " {'DATE': '2005-03-01', 'TPXRSA': 185.265697191397},\n",
              " {'DATE': '2005-04-01', 'TPXRSA': 188.44730130005402},\n",
              " {'DATE': '2005-05-01', 'TPXRSA': 192.007138665982},\n",
              " {'DATE': '2005-06-01', 'TPXRSA': 196.802441830977},\n",
              " {'DATE': '2005-07-01', 'TPXRSA': 201.114880422943},\n",
              " {'DATE': '2005-08-01', 'TPXRSA': 206.391339245118},\n",
              " {'DATE': '2005-09-01', 'TPXRSA': 211.71292700050898},\n",
              " {'DATE': '2005-10-01', 'TPXRSA': 217.89070220255797},\n",
              " {'DATE': '2005-11-01', 'TPXRSA': 222.574947810932},\n",
              " {'DATE': '2005-12-01', 'TPXRSA': 226.002586772547},\n",
              " {'DATE': '2006-01-01', 'TPXRSA': 229.524203714735},\n",
              " {'DATE': '2006-02-01', 'TPXRSA': 232.286179099003},\n",
              " {'DATE': '2006-03-01', 'TPXRSA': 235.97789231505797},\n",
              " {'DATE': '2006-04-01', 'TPXRSA': 237.94816198223702},\n",
              " {'DATE': '2006-05-01', 'TPXRSA': 239.00398529831298},\n",
              " {'DATE': '2006-06-01', 'TPXRSA': 237.96450084347697},\n",
              " {'DATE': '2006-07-01', 'TPXRSA': 236.936349537521},\n",
              " {'DATE': '2006-08-01', 'TPXRSA': 235.46719084697102},\n",
              " {'DATE': '2006-09-01', 'TPXRSA': 234.13776653545398},\n",
              " {'DATE': '2006-10-01', 'TPXRSA': 232.366403253096},\n",
              " {'DATE': '2006-11-01', 'TPXRSA': 231.314702195493},\n",
              " {'DATE': '2006-12-01', 'TPXRSA': 230.107438649568},\n",
              " {'DATE': '2007-01-01', 'TPXRSA': 229.75899157473202},\n",
              " {'DATE': '2007-02-01', 'TPXRSA': 230.445176599096},\n",
              " {'DATE': '2007-03-01', 'TPXRSA': 229.57691988462398},\n",
              " {'DATE': '2007-04-01', 'TPXRSA': 226.67651723241298},\n",
              " {'DATE': '2007-05-01', 'TPXRSA': 223.084736398008},\n",
              " {'DATE': '2007-06-01', 'TPXRSA': 219.441603405445},\n",
              " {'DATE': '2007-07-01', 'TPXRSA': 215.466109549393},\n",
              " {'DATE': '2007-08-01', 'TPXRSA': 211.128412313012},\n",
              " {'DATE': '2007-09-01', 'TPXRSA': 207.492506248581},\n",
              " {'DATE': '2007-10-01', 'TPXRSA': 204.737028550588},\n",
              " {'DATE': '2007-11-01', 'TPXRSA': 202.05146184574403},\n",
              " {'DATE': '2007-12-01', 'TPXRSA': 199.53176880709998},\n",
              " {'DATE': '2008-01-01', 'TPXRSA': 195.861015371333},\n",
              " {'DATE': '2008-02-01', 'TPXRSA': 190.786292594058},\n",
              " {'DATE': '2008-03-01', 'TPXRSA': 185.19497107303798},\n",
              " {'DATE': '2008-04-01', 'TPXRSA': 180.890828092915},\n",
              " {'DATE': '2008-05-01', 'TPXRSA': 178.06760000818298},\n",
              " {'DATE': '2008-06-01', 'TPXRSA': 174.935007869333},\n",
              " {'DATE': '2008-07-01', 'TPXRSA': 173.142979412944},\n",
              " {'DATE': '2008-08-01', 'TPXRSA': 172.31914328292598},\n",
              " {'DATE': '2008-09-01', 'TPXRSA': 168.710331270516},\n",
              " {'DATE': '2008-10-01', 'TPXRSA': 164.020029046778},\n",
              " {'DATE': '2008-11-01', 'TPXRSA': 159.87239563864202},\n",
              " {'DATE': '2008-12-01', 'TPXRSA': 155.749513298022},\n",
              " {'DATE': '2009-01-01', 'TPXRSA': 150.525561604037},\n",
              " {'DATE': '2009-02-01', 'TPXRSA': 147.491582943651},\n",
              " {'DATE': '2009-03-01', 'TPXRSA': 144.104215251328},\n",
              " {'DATE': '2009-04-01', 'TPXRSA': 142.43404771572398},\n",
              " {'DATE': '2009-05-01', 'TPXRSA': 140.982977591964},\n",
              " {'DATE': '2009-06-01', 'TPXRSA': 140.391151707358},\n",
              " {'DATE': '2009-07-01', 'TPXRSA': 140.861344831283},\n",
              " {'DATE': '2009-08-01', 'TPXRSA': 141.410545279002},\n",
              " {'DATE': '2009-09-01', 'TPXRSA': 140.304034674381},\n",
              " {'DATE': '2009-10-01', 'TPXRSA': 139.057926266413},\n",
              " {'DATE': '2009-11-01', 'TPXRSA': 139.029038452649},\n",
              " {'DATE': '2009-12-01', 'TPXRSA': 138.88174296245398},\n",
              " {'DATE': '2010-01-01', 'TPXRSA': 139.663471673538},\n",
              " {'DATE': '2010-02-01', 'TPXRSA': 138.908215081219},\n",
              " {'DATE': '2010-03-01', 'TPXRSA': 139.08712896639798},\n",
              " {'DATE': '2010-04-01', 'TPXRSA': 138.988268375},\n",
              " {'DATE': '2010-05-01', 'TPXRSA': 138.786099233766},\n",
              " {'DATE': '2010-06-01', 'TPXRSA': 137.695345128158},\n",
              " {'DATE': '2010-07-01', 'TPXRSA': 136.036885377621},\n",
              " {'DATE': '2010-08-01', 'TPXRSA': 135.378692895642},\n",
              " {'DATE': '2010-09-01', 'TPXRSA': 134.349484483206},\n",
              " {'DATE': '2010-10-01', 'TPXRSA': 133.840112677039},\n",
              " {'DATE': '2010-11-01', 'TPXRSA': 133.179005230333},\n",
              " {'DATE': '2010-12-01', 'TPXRSA': 130.993085308598},\n",
              " {'DATE': '2011-01-01', 'TPXRSA': 130.53924767637199},\n",
              " {'DATE': '2011-02-01', 'TPXRSA': 130.045308538181},\n",
              " {'DATE': '2011-03-01', 'TPXRSA': 129.023680854286},\n",
              " {'DATE': '2011-04-01', 'TPXRSA': 127.978467830494},\n",
              " {'DATE': '2011-05-01', 'TPXRSA': 127.287507782172},\n",
              " {'DATE': '2011-06-01', 'TPXRSA': 127.402130531557},\n",
              " {'DATE': '2011-07-01', 'TPXRSA': 127.347986003228},\n",
              " {'DATE': '2011-08-01', 'TPXRSA': 127.43791119533199},\n",
              " {'DATE': '2011-09-01', 'TPXRSA': 125.550050502489},\n",
              " {'DATE': '2011-10-01', 'TPXRSA': 125.788804507946},\n",
              " {'DATE': '2011-11-01', 'TPXRSA': 125.21860986755101},\n",
              " {'DATE': '2011-12-01', 'TPXRSA': 125.622257599268},\n",
              " {'DATE': '2012-01-01', 'TPXRSA': 125.629893944277},\n",
              " {'DATE': '2012-02-01', 'TPXRSA': 126.26518741918501},\n",
              " {'DATE': '2012-03-01', 'TPXRSA': 127.055604327444},\n",
              " {'DATE': '2012-04-01', 'TPXRSA': 128.918919045785},\n",
              " {'DATE': '2012-05-01', 'TPXRSA': 130.370998131079},\n",
              " {'DATE': '2012-06-01', 'TPXRSA': 131.67243907897802},\n",
              " {'DATE': '2012-07-01', 'TPXRSA': 132.194234645292},\n",
              " {'DATE': '2012-08-01', 'TPXRSA': 132.94338817944902},\n",
              " {'DATE': '2012-09-01', 'TPXRSA': 133.162182362897},\n",
              " {'DATE': '2012-10-01', 'TPXRSA': 133.322163023202},\n",
              " {'DATE': '2012-11-01', 'TPXRSA': 133.866261578272},\n",
              " {'DATE': '2012-12-01', 'TPXRSA': 134.677700654945},\n",
              " {'DATE': '2013-01-01', 'TPXRSA': 137.045708850348},\n",
              " {'DATE': '2013-02-01', 'TPXRSA': 138.694603105282},\n",
              " {'DATE': '2013-03-01', 'TPXRSA': 141.501604319463},\n",
              " {'DATE': '2013-04-01', 'TPXRSA': 143.177840153314},\n",
              " {'DATE': '2013-05-01', 'TPXRSA': 144.440838471719},\n",
              " {'DATE': '2013-06-01', 'TPXRSA': 146.483428977447},\n",
              " {'DATE': '2013-07-01', 'TPXRSA': 149.114829084862},\n",
              " {'DATE': '2013-08-01', 'TPXRSA': 152.073848822446},\n",
              " {'DATE': '2013-09-01', 'TPXRSA': 152.928031225936},\n",
              " {'DATE': '2013-10-01', 'TPXRSA': 153.776006834023},\n",
              " {'DATE': '2013-11-01', 'TPXRSA': 154.908177056809},\n",
              " {'DATE': '2013-12-01', 'TPXRSA': 155.885777581108},\n",
              " {'DATE': '2014-01-01', 'TPXRSA': 157.26617487163298},\n",
              " {'DATE': '2014-02-01', 'TPXRSA': 156.876613882696},\n",
              " {'DATE': '2014-03-01', 'TPXRSA': 156.177800976024},\n",
              " {'DATE': '2014-04-01', 'TPXRSA': 157.373259593567},\n",
              " {'DATE': '2014-05-01', 'TPXRSA': 158.95470041715902},\n",
              " {'DATE': '2014-06-01', 'TPXRSA': 159.99778968507601},\n",
              " {'DATE': '2014-07-01', 'TPXRSA': 160.271669943676},\n",
              " {'DATE': '2014-08-01', 'TPXRSA': 160.809583057781},\n",
              " {'DATE': '2014-09-01', 'TPXRSA': 161.592400291719},\n",
              " {'DATE': '2014-10-01', 'TPXRSA': 163.26827721093},\n",
              " {'DATE': '2014-11-01', 'TPXRSA': 165.17616352028},\n",
              " {'DATE': '2014-12-01', 'TPXRSA': 165.554106027373},\n",
              " {'DATE': '2015-01-01', 'TPXRSA': 165.871826026609},\n",
              " {'DATE': '2015-02-01', 'TPXRSA': 166.845278842515},\n",
              " {'DATE': '2015-03-01', 'TPXRSA': 168.198323143057},\n",
              " {'DATE': '2015-04-01', 'TPXRSA': 168.68188663766702},\n",
              " {'DATE': '2015-05-01', 'TPXRSA': 168.914337339521},\n",
              " {'DATE': '2015-06-01', 'TPXRSA': 168.945341682144},\n",
              " {'DATE': '2015-07-01', 'TPXRSA': 169.909023710615},\n",
              " {'DATE': '2015-08-01', 'TPXRSA': 171.041287827591},\n",
              " {'DATE': '2015-09-01', 'TPXRSA': 172.30462898013303},\n",
              " {'DATE': '2015-10-01', 'TPXRSA': 173.710282672146},\n",
              " {'DATE': '2015-11-01', 'TPXRSA': 174.89737939667302},\n",
              " {'DATE': '2015-12-01', 'TPXRSA': 176.676704667098},\n",
              " {'DATE': '2016-01-01', 'TPXRSA': 177.79124754921398},\n",
              " {'DATE': '2016-02-01', 'TPXRSA': 179.30300157222302},\n",
              " {'DATE': '2016-03-01', 'TPXRSA': 180.236061157806},\n",
              " {'DATE': '2016-04-01', 'TPXRSA': 181.273017022201},\n",
              " {'DATE': '2016-05-01', 'TPXRSA': 181.90654800154098},\n",
              " {'DATE': '2016-06-01', 'TPXRSA': 182.512908603795},\n",
              " {'DATE': '2016-07-01', 'TPXRSA': 183.236248053058},\n",
              " {'DATE': '2016-08-01', 'TPXRSA': 184.327026944003},\n",
              " {'DATE': '2016-09-01', 'TPXRSA': 185.48524593965},\n",
              " {'DATE': '2016-10-01', 'TPXRSA': 187.299577218301},\n",
              " {'DATE': '2016-11-01', 'TPXRSA': 188.81726327013502},\n",
              " {'DATE': '2016-12-01', 'TPXRSA': 191.25350939487097},\n",
              " {'DATE': '2017-01-01', 'TPXRSA': 192.060683195694},\n",
              " {'DATE': '2017-02-01', 'TPXRSA': 192.153086601619},\n",
              " {'DATE': '2017-03-01', 'TPXRSA': 192.12507582776902},\n",
              " {'DATE': '2017-04-01', 'TPXRSA': 193.189922114127},\n",
              " {'DATE': '2017-05-01', 'TPXRSA': 194.801826558185},\n",
              " {'DATE': '2017-06-01', 'TPXRSA': 195.522279042804},\n",
              " {'DATE': '2017-07-01', 'TPXRSA': 196.563349556026},\n",
              " {'DATE': '2017-08-01', 'TPXRSA': 197.21897219226898},\n",
              " {'DATE': '2017-09-01', 'TPXRSA': 198.967739974566},\n",
              " {'DATE': '2017-10-01', 'TPXRSA': 200.019704830141},\n",
              " {'DATE': '2017-11-01', 'TPXRSA': 201.951158285587},\n",
              " {'DATE': '2017-12-01', 'TPXRSA': 203.031634474329},\n",
              " {'DATE': '2018-01-01', 'TPXRSA': 204.657133527649},\n",
              " {'DATE': '2018-02-01', 'TPXRSA': 205.50370860663998},\n",
              " {'DATE': '2018-03-01', 'TPXRSA': 206.360035186092},\n",
              " {'DATE': '2018-04-01', 'TPXRSA': 206.930658770435},\n",
              " {'DATE': '2018-05-01', 'TPXRSA': 207.71988729064202},\n",
              " {'DATE': '2018-06-01', 'TPXRSA': 209.177865621667},\n",
              " {'DATE': '2018-07-01', 'TPXRSA': 210.20798446637198},\n",
              " {'DATE': '2018-08-01', 'TPXRSA': 211.300942920741},\n",
              " {'DATE': '2018-09-01', 'TPXRSA': 212.294247209586},\n",
              " {'DATE': '2018-10-01', 'TPXRSA': 212.69373263858003},\n",
              " {'DATE': '2018-11-01', 'TPXRSA': 213.223584580285},\n",
              " {'DATE': '2018-12-01', 'TPXRSA': 213.581029773237},\n",
              " {'DATE': '2019-01-01', 'TPXRSA': 214.847100302294},\n",
              " {'DATE': '2019-02-01', 'TPXRSA': 216.416826900776},\n",
              " {'DATE': '2019-03-01', 'TPXRSA': 217.150359503182},\n",
              " {'DATE': '2019-04-01', 'TPXRSA': 218.327037404221},\n",
              " {'DATE': '2019-05-01', 'TPXRSA': 218.525424934572},\n",
              " {'DATE': '2019-06-01', 'TPXRSA': 219.14463902584703},\n",
              " {'DATE': '2019-07-01', 'TPXRSA': 219.792752851008},\n",
              " {'DATE': '2019-08-01', 'TPXRSA': 220.57041794061402},\n",
              " {'DATE': '2019-09-01', 'TPXRSA': 221.70518810716598},\n",
              " {'DATE': '2019-10-01', 'TPXRSA': 222.92313866204103},\n",
              " {'DATE': '2019-11-01', 'TPXRSA': 223.79606296101502},\n",
              " {'DATE': '2019-12-01', 'TPXRSA': 224.72457859627002},\n",
              " {'DATE': '2020-01-01', 'TPXRSA': 225.43047908379398},\n",
              " {'DATE': '2020-02-01', 'TPXRSA': 227.02634156242996},\n",
              " {'DATE': '2020-03-01', 'TPXRSA': 229.16505202429298},\n",
              " {'DATE': '2020-04-01', 'TPXRSA': 230.736072439006},\n",
              " {'DATE': '2020-05-01', 'TPXRSA': 231.45046523518502},\n",
              " {'DATE': '2020-06-01', 'TPXRSA': 231.832692225191},\n",
              " {'DATE': '2020-07-01', 'TPXRSA': 232.80002414610001},\n",
              " {'DATE': '2020-08-01', 'TPXRSA': 235.632917814379},\n",
              " {'DATE': '2020-09-01', 'TPXRSA': 238.22681998487002},\n",
              " {'DATE': '2020-10-01', 'TPXRSA': 241.91043321784},\n",
              " {'DATE': '2020-11-01', 'TPXRSA': 245.02071711329398},\n",
              " {'DATE': '2020-12-01', 'TPXRSA': 248.775518293955},\n",
              " {'DATE': '2021-01-01', 'TPXRSA': 252.589264192108},\n",
              " {'DATE': '2021-02-01', 'TPXRSA': 256.192334438145},\n",
              " {'DATE': '2021-03-01', 'TPXRSA': 260.742447892357},\n",
              " {'DATE': '2021-04-01', 'TPXRSA': 266.31273152437},\n",
              " {'DATE': '2021-05-01', 'TPXRSA': 273.280140699245},\n",
              " {'DATE': '2021-06-01', 'TPXRSA': 281.680956554554},\n",
              " {'DATE': '2021-07-01', 'TPXRSA': 289.633330114503},\n",
              " {'DATE': '2021-08-01', 'TPXRSA': 296.829881557139},\n",
              " {'DATE': '2021-09-01', 'TPXRSA': 304.124714645836},\n",
              " {'DATE': '2021-10-01', 'TPXRSA': 309.713390948728},\n",
              " {'DATE': '2021-11-01', 'TPXRSA': 315.997612656474},\n",
              " {'DATE': '2021-12-01', 'TPXRSA': 321.8134278154}]"
            ]
          },
          "metadata": {},
          "execution_count": 37
        }
      ]
    },
    {
      "cell_type": "markdown",
      "source": [
        "# Import and Parse the Shiller Index\n",
        "\n",
        "Imported Data: https://github.com/sid-ak/jphomevalue/blob/main/data/shiller/TPXRSA.csv"
      ],
      "metadata": {
        "id": "tpddye_jus15"
      }
    },
    {
      "cell_type": "code",
      "source": [
        "import pandas as pd\n",
        "import matplotlib.pyplot as plt\n",
        "import numpy as np\n",
        "from pandas.core.indexes.multi import MultiIndex\n",
        "from google.colab import files\n",
        "\n",
        "# Read and parse the Shiller index while setting the index as the DATE.\n",
        "shiller_filePath = \"/content/drive/MyDrive/jphomevalue/data/shiller/TPXRSA.csv\"\n",
        "shiller_data = pd.read_csv(shiller_filePath,\n",
        "                           parse_dates = ['DATE'])\n",
        "\n",
        "# Preserve numerical index for future use\n",
        "shiller_numberedIndex = shiller_data.index.values\n",
        "\n",
        "# Convert index to dataframe.\n",
        "shiller_df = pd.DataFrame(shiller_data)\n",
        "shiller_df = shiller_df.set_index('DATE')\n",
        "\n",
        "# Convert to monthly periods.\n",
        "# shiller_df.index = shiller_df.index.to_period(\"1M\")\n",
        "\n",
        "# Plot index.\n",
        "# Plot does not work for monthly periods.\n",
        "plt.plot(shiller_df)"
      ],
      "metadata": {
        "id": "CZ_d2F4ME3kl"
      },
      "execution_count": null,
      "outputs": []
    },
    {
      "cell_type": "markdown",
      "source": [
        "# Downward Trend"
      ],
      "metadata": {
        "id": "r7mNSupZu1yX"
      }
    },
    {
      "cell_type": "code",
      "source": [
        "# Get downward trend ranges.\n",
        "downward_df = shiller_df.loc['2006-07-01' : '2012-01-01']\n",
        "\n",
        "# Set serialized index for downward_df\n",
        "downward_df = downward_df.set_index(pd.Index(\n",
        "    np.arange(len(downward_df.index))), append=True)\n",
        "\n",
        "# Swap the date and s_no\n",
        "downward_indexList = list(map(lambda swap: (swap[1], swap[0]), downward_df.index))\n",
        "\n",
        "# Convert tuples back to index.\n",
        "downward_df.index = MultiIndex.from_tuples(downward_indexList, names=[\"s_no\", \"DATE\"])\n",
        "\n",
        "downward_df"
      ],
      "metadata": {
        "id": "bR0dLscuIuco"
      },
      "execution_count": null,
      "outputs": []
    },
    {
      "cell_type": "code",
      "source": [
        "# Plot downward trend.\n",
        "# plt.plot(downward_df)\n",
        "\n",
        "# ATTENTION: Plotting this will no longer produce a graph because we\n",
        "#            are resetting the index to a MultiIndex type for s_no.\n",
        "\n",
        "# This is only for visualisation."
      ],
      "metadata": {
        "id": "pXih9BEtaUkP"
      },
      "execution_count": null,
      "outputs": []
    },
    {
      "cell_type": "markdown",
      "source": [
        "# Upward Trend"
      ],
      "metadata": {
        "id": "nqjDR5zdu6QA"
      }
    },
    {
      "cell_type": "code",
      "source": [
        "# Get upward trend ranges.\n",
        "upward_df = shiller_df.loc['2012-02-01' : '2020-12-01']\n",
        "\n",
        "# Set serialized index for upward_df.\n",
        "upward_df = upward_df.set_index(pd.Index(\n",
        "    np.arange(len(upward_df.index))), append=True)\n",
        "\n",
        "# Swap the date and s_no.\n",
        "upward_sNo = list(map(lambda swap: (swap[1], swap[0]), upward_df.index))\n",
        "\n",
        "# Convert tuples back to index.\n",
        "upward_df.index = MultiIndex.from_tuples(upward_sNo, names=[\"s_no\", \"DATE\"])\n",
        "\n",
        "upward_df"
      ],
      "metadata": {
        "id": "dyS3HAeRsgSo"
      },
      "execution_count": null,
      "outputs": []
    },
    {
      "cell_type": "code",
      "source": [
        "# Plot upward trend.\n",
        "# plt.plot(upward_df)\n",
        "\n",
        "# ATTENTION: Plotting this will no longer produce a graph because we\n",
        "#            are resetting the index to a MultiIndex type for s_no.\n",
        "\n",
        "# This is only for visualisation."
      ],
      "metadata": {
        "id": "uD9rd4x4adac"
      },
      "execution_count": null,
      "outputs": []
    },
    {
      "cell_type": "markdown",
      "source": [
        "# Export to CSV and Download"
      ],
      "metadata": {
        "id": "4BjeXP7CvCyQ"
      }
    },
    {
      "cell_type": "code",
      "source": [
        "downward_df.to_csv('shiller_downward.csv')\n",
        "upward_df.to_csv('shiller_upward.csv')\n",
        "\n",
        "files.download('shiller_downward.csv')\n",
        "files.download('shiller_upward.csv')"
      ],
      "metadata": {
        "id": "4tiWo6Q0vFQJ"
      },
      "execution_count": null,
      "outputs": []
    }
  ]
}