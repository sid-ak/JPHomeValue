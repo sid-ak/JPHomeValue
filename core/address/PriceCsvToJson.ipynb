{
  "nbformat": 4,
  "nbformat_minor": 0,
  "metadata": {
    "colab": {
      "name": "PriceCsvToJson.ipynb",
      "provenance": []
    },
    "kernelspec": {
      "name": "python3",
      "display_name": "Python 3"
    },
    "language_info": {
      "name": "python"
    }
  },
  "cells": [
    {
      "cell_type": "code",
      "execution_count": 235,
      "metadata": {
        "id": "15hdm39CNAhE"
      },
      "outputs": [],
      "source": [
        "import json\n",
        "import csv\n",
        "import pandas as pd"
      ]
    },
    {
      "cell_type": "code",
      "source": [
        "# Read CSV from file path\n",
        "df = pd.read_csv('/content/drive/MyDrive/jphomevalue/data/predictions/testdata_csv.csv') # File path goes here\n",
        "\n",
        "# Initialize data object\n",
        "data = []"
      ],
      "metadata": {
        "id": "fqFQeymTNPXC"
      },
      "execution_count": 236,
      "outputs": []
    },
    {
      "cell_type": "code",
      "source": [
        "for i in range(df.shape[1]-3):\n",
        "  houseAddress = df.columns.values[i+3]\n",
        "  data.append({houseAddress:[]})\n",
        "  \n",
        "  # Tampa Shiller ID: TPXRSA\n",
        "  # Clearwater & StPete Shiller ID: ATNHPIUS45300Q\n",
        "\n",
        "  for j in range(df.shape[0]-1):\n",
        "    data[i][houseAddress].append({\n",
        "        \"DATE\":df['DATE'][j], \n",
        "        \"ATNHPIUS45300Q\":df['ATNHPIUS45300Q'][j], # Respective Shiller ID goes here\n",
        "        \"Price\": df[houseAddress][j] })\n",
        "\n",
        "with open(\"path to output json\", \"w\") as jsonf:\n",
        "  json.dump(data, jsonf, indent=2)"
      ],
      "metadata": {
        "id": "Ul-3KArER903"
      },
      "execution_count": 237,
      "outputs": []
    }
  ]
}