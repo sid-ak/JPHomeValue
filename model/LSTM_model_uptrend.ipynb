{
  "nbformat": 4,
  "nbformat_minor": 0,
  "metadata": {
    "colab": {
      "name": "LSTM_model_uptrend.ipynb",
      "provenance": [],
      "collapsed_sections": []
    },
    "kernelspec": {
      "name": "python3",
      "display_name": "Python 3"
    },
    "language_info": {
      "name": "python"
    }
  },
  "cells": [
    {
      "cell_type": "code",
      "execution_count": 1,
      "metadata": {
        "id": "KRlH60U7gK2I",
        "colab": {
          "base_uri": "https://localhost:8080/"
        },
        "outputId": "bd427e13-c291-4033-ea7a-ac9fa68d0be9"
      },
      "outputs": [
        {
          "output_type": "stream",
          "name": "stdout",
          "text": [
            "Mounted at /content/drive\n"
          ]
        }
      ],
      "source": [
        "from google.colab import drive\n",
        "drive.mount('/content/drive')"
      ]
    },
    {
      "cell_type": "code",
      "source": [
        "from google.colab import drive, files # google colab specific\n",
        "import requests\n",
        "import pandas as pd\n",
        "import os\n",
        "import warnings\n",
        "import sys\n",
        "import matplotlib.pyplot as plt\n",
        "import json\n",
        "import numpy as np\n",
        "from sklearn.preprocessing import MinMaxScaler\n",
        "from keras.callbacks import EarlyStopping, ModelCheckpoint\n",
        "import tensorflow as tf\n",
        "from tensorflow import keras\n",
        "from keras import layers\n",
        "import math\n",
        "from sklearn.metrics import mean_squared_error"
      ],
      "metadata": {
        "id": "UQOo3N9QgiiT"
      },
      "execution_count": 2,
      "outputs": []
    },
    {
      "cell_type": "code",
      "source": [
        "# Read in the csv file that contains the time series data of the Shiller Index\n",
        "# Create the dataframe\n",
        "\n",
        "df = pd.read_csv('/content/drive/MyDrive/JPM/jphomevalue/jphomevalue/data/shiller/shiller_split/shiller_upward.csv')\n",
        "df.head()"
      ],
      "metadata": {
        "id": "NP79JZh5gikb",
        "colab": {
          "base_uri": "https://localhost:8080/",
          "height": 206
        },
        "outputId": "922804a3-ff25-48f8-be34-01a8830b07cf"
      },
      "execution_count": 26,
      "outputs": [
        {
          "output_type": "execute_result",
          "data": {
            "text/plain": [
              "   s_no     DATE      TPXRSA\n",
              "0     0  2012-02  126.265187\n",
              "1     1  2012-03  127.055604\n",
              "2     2  2012-04  128.918919\n",
              "3     3  2012-05  130.370998\n",
              "4     4  2012-06  131.672439"
            ],
            "text/html": [
              "\n",
              "  <div id=\"df-50d32063-85e1-447d-83b5-78567a0ca54c\">\n",
              "    <div class=\"colab-df-container\">\n",
              "      <div>\n",
              "<style scoped>\n",
              "    .dataframe tbody tr th:only-of-type {\n",
              "        vertical-align: middle;\n",
              "    }\n",
              "\n",
              "    .dataframe tbody tr th {\n",
              "        vertical-align: top;\n",
              "    }\n",
              "\n",
              "    .dataframe thead th {\n",
              "        text-align: right;\n",
              "    }\n",
              "</style>\n",
              "<table border=\"1\" class=\"dataframe\">\n",
              "  <thead>\n",
              "    <tr style=\"text-align: right;\">\n",
              "      <th></th>\n",
              "      <th>s_no</th>\n",
              "      <th>DATE</th>\n",
              "      <th>TPXRSA</th>\n",
              "    </tr>\n",
              "  </thead>\n",
              "  <tbody>\n",
              "    <tr>\n",
              "      <th>0</th>\n",
              "      <td>0</td>\n",
              "      <td>2012-02</td>\n",
              "      <td>126.265187</td>\n",
              "    </tr>\n",
              "    <tr>\n",
              "      <th>1</th>\n",
              "      <td>1</td>\n",
              "      <td>2012-03</td>\n",
              "      <td>127.055604</td>\n",
              "    </tr>\n",
              "    <tr>\n",
              "      <th>2</th>\n",
              "      <td>2</td>\n",
              "      <td>2012-04</td>\n",
              "      <td>128.918919</td>\n",
              "    </tr>\n",
              "    <tr>\n",
              "      <th>3</th>\n",
              "      <td>3</td>\n",
              "      <td>2012-05</td>\n",
              "      <td>130.370998</td>\n",
              "    </tr>\n",
              "    <tr>\n",
              "      <th>4</th>\n",
              "      <td>4</td>\n",
              "      <td>2012-06</td>\n",
              "      <td>131.672439</td>\n",
              "    </tr>\n",
              "  </tbody>\n",
              "</table>\n",
              "</div>\n",
              "      <button class=\"colab-df-convert\" onclick=\"convertToInteractive('df-50d32063-85e1-447d-83b5-78567a0ca54c')\"\n",
              "              title=\"Convert this dataframe to an interactive table.\"\n",
              "              style=\"display:none;\">\n",
              "        \n",
              "  <svg xmlns=\"http://www.w3.org/2000/svg\" height=\"24px\"viewBox=\"0 0 24 24\"\n",
              "       width=\"24px\">\n",
              "    <path d=\"M0 0h24v24H0V0z\" fill=\"none\"/>\n",
              "    <path d=\"M18.56 5.44l.94 2.06.94-2.06 2.06-.94-2.06-.94-.94-2.06-.94 2.06-2.06.94zm-11 1L8.5 8.5l.94-2.06 2.06-.94-2.06-.94L8.5 2.5l-.94 2.06-2.06.94zm10 10l.94 2.06.94-2.06 2.06-.94-2.06-.94-.94-2.06-.94 2.06-2.06.94z\"/><path d=\"M17.41 7.96l-1.37-1.37c-.4-.4-.92-.59-1.43-.59-.52 0-1.04.2-1.43.59L10.3 9.45l-7.72 7.72c-.78.78-.78 2.05 0 2.83L4 21.41c.39.39.9.59 1.41.59.51 0 1.02-.2 1.41-.59l7.78-7.78 2.81-2.81c.8-.78.8-2.07 0-2.86zM5.41 20L4 18.59l7.72-7.72 1.47 1.35L5.41 20z\"/>\n",
              "  </svg>\n",
              "      </button>\n",
              "      \n",
              "  <style>\n",
              "    .colab-df-container {\n",
              "      display:flex;\n",
              "      flex-wrap:wrap;\n",
              "      gap: 12px;\n",
              "    }\n",
              "\n",
              "    .colab-df-convert {\n",
              "      background-color: #E8F0FE;\n",
              "      border: none;\n",
              "      border-radius: 50%;\n",
              "      cursor: pointer;\n",
              "      display: none;\n",
              "      fill: #1967D2;\n",
              "      height: 32px;\n",
              "      padding: 0 0 0 0;\n",
              "      width: 32px;\n",
              "    }\n",
              "\n",
              "    .colab-df-convert:hover {\n",
              "      background-color: #E2EBFA;\n",
              "      box-shadow: 0px 1px 2px rgba(60, 64, 67, 0.3), 0px 1px 3px 1px rgba(60, 64, 67, 0.15);\n",
              "      fill: #174EA6;\n",
              "    }\n",
              "\n",
              "    [theme=dark] .colab-df-convert {\n",
              "      background-color: #3B4455;\n",
              "      fill: #D2E3FC;\n",
              "    }\n",
              "\n",
              "    [theme=dark] .colab-df-convert:hover {\n",
              "      background-color: #434B5C;\n",
              "      box-shadow: 0px 1px 3px 1px rgba(0, 0, 0, 0.15);\n",
              "      filter: drop-shadow(0px 1px 2px rgba(0, 0, 0, 0.3));\n",
              "      fill: #FFFFFF;\n",
              "    }\n",
              "  </style>\n",
              "\n",
              "      <script>\n",
              "        const buttonEl =\n",
              "          document.querySelector('#df-50d32063-85e1-447d-83b5-78567a0ca54c button.colab-df-convert');\n",
              "        buttonEl.style.display =\n",
              "          google.colab.kernel.accessAllowed ? 'block' : 'none';\n",
              "\n",
              "        async function convertToInteractive(key) {\n",
              "          const element = document.querySelector('#df-50d32063-85e1-447d-83b5-78567a0ca54c');\n",
              "          const dataTable =\n",
              "            await google.colab.kernel.invokeFunction('convertToInteractive',\n",
              "                                                     [key], {});\n",
              "          if (!dataTable) return;\n",
              "\n",
              "          const docLinkHtml = 'Like what you see? Visit the ' +\n",
              "            '<a target=\"_blank\" href=https://colab.research.google.com/notebooks/data_table.ipynb>data table notebook</a>'\n",
              "            + ' to learn more about interactive tables.';\n",
              "          element.innerHTML = '';\n",
              "          dataTable['output_type'] = 'display_data';\n",
              "          await google.colab.output.renderOutput(dataTable, element);\n",
              "          const docLink = document.createElement('div');\n",
              "          docLink.innerHTML = docLinkHtml;\n",
              "          element.appendChild(docLink);\n",
              "        }\n",
              "      </script>\n",
              "    </div>\n",
              "  </div>\n",
              "  "
            ]
          },
          "metadata": {},
          "execution_count": 26
        }
      ]
    },
    {
      "cell_type": "code",
      "source": [
        "# Reset the index based on the prices\n",
        "df1 = df.reset_index()['TPXRSA']\n",
        "df1"
      ],
      "metadata": {
        "id": "nymcV0xmgim7",
        "colab": {
          "base_uri": "https://localhost:8080/"
        },
        "outputId": "bc3b7e06-5aca-4cce-eef6-0cb48a25e53b"
      },
      "execution_count": 27,
      "outputs": [
        {
          "output_type": "execute_result",
          "data": {
            "text/plain": [
              "0      126.265187\n",
              "1      127.055604\n",
              "2      128.918919\n",
              "3      130.370998\n",
              "4      131.672439\n",
              "          ...    \n",
              "102    235.632918\n",
              "103    238.226820\n",
              "104    241.910433\n",
              "105    245.020717\n",
              "106    248.775518\n",
              "Name: TPXRSA, Length: 107, dtype: float64"
            ]
          },
          "metadata": {},
          "execution_count": 27
        }
      ]
    },
    {
      "cell_type": "code",
      "source": [
        "# Visualize the data for reference. \n",
        "plt.plot(df1)"
      ],
      "metadata": {
        "id": "7mAcQZqegipe",
        "colab": {
          "base_uri": "https://localhost:8080/",
          "height": 284
        },
        "outputId": "e229fc3d-bd65-46bb-dfa9-110671d60e1e"
      },
      "execution_count": 28,
      "outputs": [
        {
          "output_type": "execute_result",
          "data": {
            "text/plain": [
              "[<matplotlib.lines.Line2D at 0x7f922e5053d0>]"
            ]
          },
          "metadata": {},
          "execution_count": 28
        },
        {
          "output_type": "display_data",
          "data": {
            "text/plain": [
              "<Figure size 432x288 with 1 Axes>"
            ],
            "image/png": "[encoded data removed]"
          },
          "metadata": {
            "needs_background": "light"
          }
        }
      ]
    },
    {
      "cell_type": "code",
      "source": [
        "# Normalize the data with the range 0 - 1\n",
        "scaler = MinMaxScaler(feature_range=(0,1))\n",
        "\n",
        "# Apply the scaler to the dataframe\n",
        "df1 = scaler.fit_transform(np.array(df1).reshape(-1,1))\n",
        "\n",
        "# Print df1 to check the change\n",
        "print(df1)"
      ],
      "metadata": {
        "id": "HQrFNXdlgiru",
        "colab": {
          "base_uri": "https://localhost:8080/"
        },
        "outputId": "100934a8-9ffc-43f9-9400-5659012af8d7"
      },
      "execution_count": 29,
      "outputs": [
        {
          "output_type": "stream",
          "name": "stdout",
          "text": [
            "[[0.        ]\n",
            " [0.00645184]\n",
            " [0.02166129]\n",
            " [0.033514  ]\n",
            " [0.04413711]\n",
            " [0.0483963 ]\n",
            " [0.05451133]\n",
            " [0.05629725]\n",
            " [0.05760311]\n",
            " [0.06204435]\n",
            " [0.06866779]\n",
            " [0.08799684]\n",
            " [0.10145606]\n",
            " [0.12436843]\n",
            " [0.13805083]\n",
            " [0.14836015]\n",
            " [0.16503295]\n",
            " [0.18651196]\n",
            " [0.21066518]\n",
            " [0.21763751]\n",
            " [0.22455918]\n",
            " [0.23380061]\n",
            " [0.24178035]\n",
            " [0.25304794]\n",
            " [0.24986812]\n",
            " [0.24416401]\n",
            " [0.25392203]\n",
            " [0.26683066]\n",
            " [0.27534496]\n",
            " [0.27758053]\n",
            " [0.28197129]\n",
            " [0.28836109]\n",
            " [0.30204057]\n",
            " [0.31761384]\n",
            " [0.32069882]\n",
            " [0.32329223]\n",
            " [0.33123812]\n",
            " [0.34228245]\n",
            " [0.34622957]\n",
            " [0.34812697]\n",
            " [0.34838004]\n",
            " [0.35624617]\n",
            " [0.36548836]\n",
            " [0.37580048]\n",
            " [0.38727424]\n",
            " [0.39696401]\n",
            " [0.41148789]\n",
            " [0.42058543]\n",
            " [0.43292524]\n",
            " [0.44054141]\n",
            " [0.44900564]\n",
            " [0.45417689]\n",
            " [0.45912635]\n",
            " [0.46503066]\n",
            " [0.47393423]\n",
            " [0.48338828]\n",
            " [0.4981979 ]\n",
            " [0.51058613]\n",
            " [0.53047218]\n",
            " [0.5370608 ]\n",
            " [0.53781505]\n",
            " [0.53758641]\n",
            " [0.5462783 ]\n",
            " [0.55943559]\n",
            " [0.56531634]\n",
            " [0.57381416]\n",
            " [0.57916573]\n",
            " [0.59344018]\n",
            " [0.60202692]\n",
            " [0.61779256]\n",
            " [0.62661203]\n",
            " [0.63988029]\n",
            " [0.64679052]\n",
            " [0.65378036]\n",
            " [0.65843812]\n",
            " [0.66488025]\n",
            " [0.67678111]\n",
            " [0.68518954]\n",
            " [0.6941109 ]\n",
            " [0.70221882]\n",
            " [0.70547965]\n",
            " [0.70980461]\n",
            " [0.71272228]\n",
            " [0.72305668]\n",
            " [0.73586969]\n",
            " [0.74185721]\n",
            " [0.75146193]\n",
            " [0.75308129]\n",
            " [0.75813567]\n",
            " [0.76342595]\n",
            " [0.7697737 ]\n",
            " [0.77903635]\n",
            " [0.78897796]\n",
            " [0.79610327]\n",
            " [0.80368235]\n",
            " [0.80944432]\n",
            " [0.82247067]\n",
            " [0.83992806]\n",
            " [0.85275164]\n",
            " [0.85858292]\n",
            " [0.86170288]\n",
            " [0.8695988 ]\n",
            " [0.89272251]\n",
            " [0.91389544]\n",
            " [0.94396321]\n",
            " [0.96935115]\n",
            " [1.        ]]\n"
          ]
        }
      ]
    },
    {
      "cell_type": "code",
      "source": [
        "# Split data into train, validation and test set. Ratio: 6/1/3\n",
        "training_size = int(len(df1)*0.6)\n",
        "validation_size = int(len(df1)*0.75) \n",
        "test_size = int(len(df1))\n",
        "\n",
        "train_set = df1[0:training_size,:]\n",
        "validation_set = df1[training_size:validation_size,:]\n",
        "test_set = df1[validation_size:test_size,:1]\n",
        "\n"
      ],
      "metadata": {
        "id": "7-RFY8rPgit_"
      },
      "execution_count": 33,
      "outputs": []
    },
    {
      "cell_type": "code",
      "source": [
        "df1.shape"
      ],
      "metadata": {
        "colab": {
          "base_uri": "https://localhost:8080/"
        },
        "id": "5ZyXB9Fadp7D",
        "outputId": "46ab67c8-caed-4017-9562-e9a3c772dc63"
      },
      "execution_count": 97,
      "outputs": [
        {
          "output_type": "execute_result",
          "data": {
            "text/plain": [
              "(107, 1)"
            ]
          },
          "metadata": {},
          "execution_count": 97
        }
      ]
    },
    {
      "cell_type": "code",
      "source": [
        "# Check sizes and set sizes\n",
        "#training_size\n",
        "#validation_size \n",
        "#test_size\n",
        "print(train_set.shape)\n",
        "print(validation_set.shape)\n",
        "print(test_set.shape)"
      ],
      "metadata": {
        "id": "NFMvq31VgiwY",
        "colab": {
          "base_uri": "https://localhost:8080/"
        },
        "outputId": "d623aa77-7ac6-44bb-9f55-03392ed928ba"
      },
      "execution_count": 34,
      "outputs": [
        {
          "output_type": "stream",
          "name": "stdout",
          "text": [
            "(64, 1)\n",
            "(16, 1)\n",
            "(27, 1)\n"
          ]
        }
      ]
    },
    {
      "cell_type": "code",
      "source": [
        "# The current array of values needs to be converted into a dataset matrix\n",
        "def create_dmatrix(dataset, time_step=1):\n",
        "  data_X, data_Y = [], []\n",
        "  for i in range(len(dataset)-time_step-1):\n",
        "    k = dataset[i:(i + time_step), 0]\n",
        "    data_X.append(k)\n",
        "    data_Y.append(dataset[i + time_step, 0])\n",
        "  return np.array(data_X), np.array(data_Y)"
      ],
      "metadata": {
        "id": "FTaWKxTkgiy6"
      },
      "execution_count": 35,
      "outputs": []
    },
    {
      "cell_type": "code",
      "source": [
        "# Using the function already created for the conversion, convert training, validation and test sets. \n",
        "time_step = 8\n",
        "X_train, Y_train = create_dmatrix(train_set, time_step)\n",
        "X_val, Y_val = create_dmatrix(validation_set, time_step)\n",
        "X_test, Y_test = create_dmatrix(test_set, time_step)\n",
        "\n",
        "print('X Train set shape:', X_train.shape)\n",
        "print('y Train set shape:', Y_train.shape)\n",
        "\n",
        "print('X Validation set shape:', X_val.shape)\n",
        "print('y Validation set shape:', Y_val.shape)\n",
        "\n",
        "print('X Test set shape:', X_test.shape)\n",
        "print('y Test set shape:', Y_test.shape)\n"
      ],
      "metadata": {
        "id": "GNnJWZcwgi8x",
        "colab": {
          "base_uri": "https://localhost:8080/"
        },
        "outputId": "db953874-ce32-4d36-9d08-a6fe7d44da89"
      },
      "execution_count": 36,
      "outputs": [
        {
          "output_type": "stream",
          "name": "stdout",
          "text": [
            "X Train set shape: (55, 8)\n",
            "y Train set shape: (55,)\n",
            "X Validation set shape: (7, 8)\n",
            "y Validation set shape: (7,)\n",
            "X Test set shape: (18, 8)\n",
            "y Test set shape: (18,)\n"
          ]
        }
      ]
    },
    {
      "cell_type": "code",
      "source": [
        "# Check the matrixes created\n",
        "X_test"
      ],
      "metadata": {
        "colab": {
          "base_uri": "https://localhost:8080/"
        },
        "id": "7KythFnfXCNw",
        "outputId": "42c30a7b-5248-4436-9091-18bb2b4fed26"
      },
      "execution_count": 37,
      "outputs": [
        {
          "output_type": "execute_result",
          "data": {
            "text/plain": [
              "array([[0.70547965, 0.70980461, 0.71272228, 0.72305668, 0.73586969,\n",
              "        0.74185721, 0.75146193, 0.75308129],\n",
              "       [0.70980461, 0.71272228, 0.72305668, 0.73586969, 0.74185721,\n",
              "        0.75146193, 0.75308129, 0.75813567],\n",
              "       [0.71272228, 0.72305668, 0.73586969, 0.74185721, 0.75146193,\n",
              "        0.75308129, 0.75813567, 0.76342595],\n",
              "       [0.72305668, 0.73586969, 0.74185721, 0.75146193, 0.75308129,\n",
              "        0.75813567, 0.76342595, 0.7697737 ],\n",
              "       [0.73586969, 0.74185721, 0.75146193, 0.75308129, 0.75813567,\n",
              "        0.76342595, 0.7697737 , 0.77903635],\n",
              "       [0.74185721, 0.75146193, 0.75308129, 0.75813567, 0.76342595,\n",
              "        0.7697737 , 0.77903635, 0.78897796],\n",
              "       [0.75146193, 0.75308129, 0.75813567, 0.76342595, 0.7697737 ,\n",
              "        0.77903635, 0.78897796, 0.79610327],\n",
              "       [0.75308129, 0.75813567, 0.76342595, 0.7697737 , 0.77903635,\n",
              "        0.78897796, 0.79610327, 0.80368235],\n",
              "       [0.75813567, 0.76342595, 0.7697737 , 0.77903635, 0.78897796,\n",
              "        0.79610327, 0.80368235, 0.80944432],\n",
              "       [0.76342595, 0.7697737 , 0.77903635, 0.78897796, 0.79610327,\n",
              "        0.80368235, 0.80944432, 0.82247067],\n",
              "       [0.7697737 , 0.77903635, 0.78897796, 0.79610327, 0.80368235,\n",
              "        0.80944432, 0.82247067, 0.83992806],\n",
              "       [0.77903635, 0.78897796, 0.79610327, 0.80368235, 0.80944432,\n",
              "        0.82247067, 0.83992806, 0.85275164],\n",
              "       [0.78897796, 0.79610327, 0.80368235, 0.80944432, 0.82247067,\n",
              "        0.83992806, 0.85275164, 0.85858292],\n",
              "       [0.79610327, 0.80368235, 0.80944432, 0.82247067, 0.83992806,\n",
              "        0.85275164, 0.85858292, 0.86170288],\n",
              "       [0.80368235, 0.80944432, 0.82247067, 0.83992806, 0.85275164,\n",
              "        0.85858292, 0.86170288, 0.8695988 ],\n",
              "       [0.80944432, 0.82247067, 0.83992806, 0.85275164, 0.85858292,\n",
              "        0.86170288, 0.8695988 , 0.89272251],\n",
              "       [0.82247067, 0.83992806, 0.85275164, 0.85858292, 0.86170288,\n",
              "        0.8695988 , 0.89272251, 0.91389544],\n",
              "       [0.83992806, 0.85275164, 0.85858292, 0.86170288, 0.8695988 ,\n",
              "        0.89272251, 0.91389544, 0.94396321]])"
            ]
          },
          "metadata": {},
          "execution_count": 37
        }
      ]
    },
    {
      "cell_type": "code",
      "source": [
        "# In order to feed the dataset to the neural network the data must be in 3D\n",
        "\n",
        "X_train = X_train.reshape(X_train.shape[0], X_train.shape[1], 1)\n",
        "X_val = X_val.reshape(X_val.shape[0], X_val.shape[1], 1)\n",
        "X_test = X_test.reshape(X_test.shape[0], X_test.shape[1], 1)"
      ],
      "metadata": {
        "id": "NTkZBoTbmRZp"
      },
      "execution_count": 38,
      "outputs": []
    },
    {
      "cell_type": "code",
      "source": [
        "# Hyperparameters\n",
        "batch_size = 32\n",
        "epochs = 500\n",
        "learning_rate = 0.001"
      ],
      "metadata": {
        "id": "OVf588vmm9jy"
      },
      "execution_count": 60,
      "outputs": []
    },
    {
      "cell_type": "code",
      "source": [
        "# LSTM MODEL ARCHITECTURE\n",
        "\n",
        "model = keras.models.Sequential([\n",
        "  keras.Input(shape=(8, 1)),\n",
        "  # Masking layer, to ignore zeros.\n",
        "  # keras.layers.Masking(),\n",
        "  # 4 LSTM Layers with 16 units.\n",
        "  keras.layers.LSTM(units=45, return_sequences=True),\n",
        "  keras.layers.LSTM(units=45, return_sequences=True),\n",
        "  keras.layers.LSTM(units=45, return_sequences=True),\n",
        "  keras.layers.LSTM(units=45),\n",
        "  # Fully Connected Layer\n",
        "  keras.layers.Dense(units=1)\n",
        "])\n",
        "model.summary()"
      ],
      "metadata": {
        "id": "3xYTfnX7mRcT",
        "colab": {
          "base_uri": "https://localhost:8080/"
        },
        "outputId": "e5b90f48-a5eb-4703-af1f-5108ec1ebfa3"
      },
      "execution_count": 61,
      "outputs": [
        {
          "output_type": "stream",
          "name": "stdout",
          "text": [
            "Model: \"sequential_6\"\n",
            "_________________________________________________________________\n",
            " Layer (type)                Output Shape              Param #   \n",
            "=================================================================\n",
            " lstm_24 (LSTM)              (None, 8, 45)             8460      \n",
            "                                                                 \n",
            " lstm_25 (LSTM)              (None, 8, 45)             16380     \n",
            "                                                                 \n",
            " lstm_26 (LSTM)              (None, 8, 45)             16380     \n",
            "                                                                 \n",
            " lstm_27 (LSTM)              (None, 45)                16380     \n",
            "                                                                 \n",
            " dense_6 (Dense)             (None, 1)                 46        \n",
            "                                                                 \n",
            "=================================================================\n",
            "Total params: 57,646\n",
            "Trainable params: 57,646\n",
            "Non-trainable params: 0\n",
            "_________________________________________________________________\n"
          ]
        }
      ]
    },
    {
      "cell_type": "code",
      "source": [
        "# Loss and Optimizer Functions\n",
        "mse = tf.keras.losses.MeanSquaredError()\n",
        "rmse = tf.keras.metrics.RootMeanSquaredError()\n",
        "model.compile(loss=mse, optimizer=keras.optimizers.Adam(learning_rate=learning_rate), metrics=[rmse])"
      ],
      "metadata": {
        "id": "efwTmK16oM0f"
      },
      "execution_count": 62,
      "outputs": []
    },
    {
      "cell_type": "code",
      "source": [
        "# Callbacks.\n",
        "\n",
        "callbacks = [EarlyStopping(monitor='val_loss', patience=100, verbose=1), \n",
        "            ModelCheckpoint(filepath='/content/sample_data/lstm-model-uptrend.h5', verbose=1, monitor='val_loss', save_best_only=True, save_weights_only=False)]\n",
        "\n",
        "# Train the model\n",
        "history = model.fit(x=X_train, y=Y_train, validation_data =(X_val, Y_val), epochs=epochs, batch_size=batch_size, shuffle=True, callbacks=callbacks)"
      ],
      "metadata": {
        "id": "ADW-xwhOmRel",
        "colab": {
          "base_uri": "https://localhost:8080/"
        },
        "outputId": "ba89c50a-0a44-4084-b004-b6ed6e2a6070"
      },
      "execution_count": 63,
      "outputs": [
        {
          "output_type": "stream",
          "name": "stdout",
          "text": [
            "Epoch 1/500\n",
            "2/2 [==============================] - ETA: 0s - loss: 0.1175 - root_mean_squared_error: 0.3427\n",
            "Epoch 1: val_loss improved from inf to 0.39075, saving model to /content/sample_data/lstm-model-uptrend.h5\n",
            "2/2 [==============================] - 11s 2s/step - loss: 0.1175 - root_mean_squared_error: 0.3427 - val_loss: 0.3907 - val_root_mean_squared_error: 0.6251\n",
            "Epoch 2/500\n",
            "1/2 [==============>...............] - ETA: 0s - loss: 0.0938 - root_mean_squared_error: 0.3063\n",
            "Epoch 2: val_loss improved from 0.39075 to 0.32891, saving model to /content/sample_data/lstm-model-uptrend.h5\n",
            "2/2 [==============================] - 0s 87ms/step - loss: 0.0949 - root_mean_squared_error: 0.3081 - val_loss: 0.3289 - val_root_mean_squared_error: 0.5735\n",
            "Epoch 3/500\n",
            "1/2 [==============>...............] - ETA: 0s - loss: 0.0749 - root_mean_squared_error: 0.2737\n",
            "Epoch 3: val_loss improved from 0.32891 to 0.25385, saving model to /content/sample_data/lstm-model-uptrend.h5\n",
            "2/2 [==============================] - 0s 87ms/step - loss: 0.0716 - root_mean_squared_error: 0.2675 - val_loss: 0.2538 - val_root_mean_squared_error: 0.5038\n",
            "Epoch 4/500\n",
            "1/2 [==============>...............] - ETA: 0s - loss: 0.0597 - root_mean_squared_error: 0.2444\n",
            "Epoch 4: val_loss improved from 0.25385 to 0.16494, saving model to /content/sample_data/lstm-model-uptrend.h5\n",
            "2/2 [==============================] - 0s 86ms/step - loss: 0.0467 - root_mean_squared_error: 0.2160 - val_loss: 0.1649 - val_root_mean_squared_error: 0.4061\n",
            "Epoch 5/500\n",
            "1/2 [==============>...............] - ETA: 0s - loss: 0.0277 - root_mean_squared_error: 0.1663\n",
            "Epoch 5: val_loss improved from 0.16494 to 0.07155, saving model to /content/sample_data/lstm-model-uptrend.h5\n",
            "2/2 [==============================] - 0s 99ms/step - loss: 0.0218 - root_mean_squared_error: 0.1478 - val_loss: 0.0716 - val_root_mean_squared_error: 0.2675\n",
            "Epoch 6/500\n",
            "1/2 [==============>...............] - ETA: 0s - loss: 0.0114 - root_mean_squared_error: 0.1065\n",
            "Epoch 6: val_loss improved from 0.07155 to 0.01087, saving model to /content/sample_data/lstm-model-uptrend.h5\n",
            "2/2 [==============================] - 0s 90ms/step - loss: 0.0102 - root_mean_squared_error: 0.1010 - val_loss: 0.0109 - val_root_mean_squared_error: 0.1043\n",
            "Epoch 7/500\n",
            "1/2 [==============>...............] - ETA: 0s - loss: 0.0204 - root_mean_squared_error: 0.1430\n",
            "Epoch 7: val_loss improved from 0.01087 to 0.00404, saving model to /content/sample_data/lstm-model-uptrend.h5\n",
            "2/2 [==============================] - 0s 89ms/step - loss: 0.0212 - root_mean_squared_error: 0.1455 - val_loss: 0.0040 - val_root_mean_squared_error: 0.0635\n",
            "Epoch 8/500\n",
            "1/2 [==============>...............] - ETA: 0s - loss: 0.0180 - root_mean_squared_error: 0.1343\n",
            "Epoch 8: val_loss did not improve from 0.00404\n",
            "2/2 [==============================] - 0s 47ms/step - loss: 0.0227 - root_mean_squared_error: 0.1508 - val_loss: 0.0159 - val_root_mean_squared_error: 0.1261\n",
            "Epoch 9/500\n",
            "1/2 [==============>...............] - ETA: 0s - loss: 0.0143 - root_mean_squared_error: 0.1197\n",
            "Epoch 9: val_loss did not improve from 0.00404\n",
            "2/2 [==============================] - 0s 53ms/step - loss: 0.0134 - root_mean_squared_error: 0.1159 - val_loss: 0.0437 - val_root_mean_squared_error: 0.2091\n",
            "Epoch 10/500\n",
            "1/2 [==============>...............] - ETA: 0s - loss: 0.0096 - root_mean_squared_error: 0.0980\n",
            "Epoch 10: val_loss did not improve from 0.00404\n",
            "2/2 [==============================] - 0s 49ms/step - loss: 0.0091 - root_mean_squared_error: 0.0954 - val_loss: 0.0738 - val_root_mean_squared_error: 0.2717\n",
            "Epoch 11/500\n",
            "1/2 [==============>...............] - ETA: 0s - loss: 0.0108 - root_mean_squared_error: 0.1041\n",
            "Epoch 11: val_loss did not improve from 0.00404\n",
            "2/2 [==============================] - 0s 48ms/step - loss: 0.0104 - root_mean_squared_error: 0.1022 - val_loss: 0.0940 - val_root_mean_squared_error: 0.3065\n",
            "Epoch 12/500\n",
            "1/2 [==============>...............] - ETA: 0s - loss: 0.0114 - root_mean_squared_error: 0.1070\n",
            "Epoch 12: val_loss did not improve from 0.00404\n",
            "2/2 [==============================] - 0s 49ms/step - loss: 0.0129 - root_mean_squared_error: 0.1135 - val_loss: 0.1006 - val_root_mean_squared_error: 0.3172\n",
            "Epoch 13/500\n",
            "1/2 [==============>...............] - ETA: 0s - loss: 0.0158 - root_mean_squared_error: 0.1256\n",
            "Epoch 13: val_loss did not improve from 0.00404\n",
            "2/2 [==============================] - 0s 55ms/step - loss: 0.0135 - root_mean_squared_error: 0.1160 - val_loss: 0.0934 - val_root_mean_squared_error: 0.3055\n",
            "Epoch 14/500\n",
            "1/2 [==============>...............] - ETA: 0s - loss: 0.0118 - root_mean_squared_error: 0.1085\n",
            "Epoch 14: val_loss did not improve from 0.00404\n",
            "2/2 [==============================] - 0s 51ms/step - loss: 0.0120 - root_mean_squared_error: 0.1095 - val_loss: 0.0773 - val_root_mean_squared_error: 0.2780\n",
            "Epoch 15/500\n",
            "1/2 [==============>...............] - ETA: 0s - loss: 0.0100 - root_mean_squared_error: 0.1000\n",
            "Epoch 15: val_loss did not improve from 0.00404\n",
            "2/2 [==============================] - 0s 53ms/step - loss: 0.0097 - root_mean_squared_error: 0.0987 - val_loss: 0.0551 - val_root_mean_squared_error: 0.2346\n",
            "Epoch 16/500\n",
            "1/2 [==============>...............] - ETA: 0s - loss: 0.0077 - root_mean_squared_error: 0.0878\n",
            "Epoch 16: val_loss did not improve from 0.00404\n",
            "2/2 [==============================] - 0s 51ms/step - loss: 0.0076 - root_mean_squared_error: 0.0873 - val_loss: 0.0336 - val_root_mean_squared_error: 0.1833\n",
            "Epoch 17/500\n",
            "1/2 [==============>...............] - ETA: 0s - loss: 0.0058 - root_mean_squared_error: 0.0761\n",
            "Epoch 17: val_loss did not improve from 0.00404\n",
            "2/2 [==============================] - 0s 52ms/step - loss: 0.0069 - root_mean_squared_error: 0.0833 - val_loss: 0.0185 - val_root_mean_squared_error: 0.1359\n",
            "Epoch 18/500\n",
            "1/2 [==============>...............] - ETA: 0s - loss: 0.0071 - root_mean_squared_error: 0.0842\n",
            "Epoch 18: val_loss did not improve from 0.00404\n",
            "2/2 [==============================] - 0s 50ms/step - loss: 0.0073 - root_mean_squared_error: 0.0856 - val_loss: 0.0118 - val_root_mean_squared_error: 0.1085\n",
            "Epoch 19/500\n",
            "1/2 [==============>...............] - ETA: 0s - loss: 0.0063 - root_mean_squared_error: 0.0793\n",
            "Epoch 19: val_loss did not improve from 0.00404\n",
            "2/2 [==============================] - 0s 50ms/step - loss: 0.0071 - root_mean_squared_error: 0.0845 - val_loss: 0.0116 - val_root_mean_squared_error: 0.1078\n",
            "Epoch 20/500\n",
            "1/2 [==============>...............] - ETA: 0s - loss: 0.0076 - root_mean_squared_error: 0.0869\n",
            "Epoch 20: val_loss did not improve from 0.00404\n",
            "2/2 [==============================] - 0s 48ms/step - loss: 0.0059 - root_mean_squared_error: 0.0767 - val_loss: 0.0160 - val_root_mean_squared_error: 0.1265\n",
            "Epoch 21/500\n",
            "1/2 [==============>...............] - ETA: 0s - loss: 0.0052 - root_mean_squared_error: 0.0720\n",
            "Epoch 21: val_loss did not improve from 0.00404\n",
            "2/2 [==============================] - 0s 50ms/step - loss: 0.0045 - root_mean_squared_error: 0.0668 - val_loss: 0.0208 - val_root_mean_squared_error: 0.1443\n",
            "Epoch 22/500\n",
            "1/2 [==============>...............] - ETA: 0s - loss: 0.0034 - root_mean_squared_error: 0.0582\n",
            "Epoch 22: val_loss did not improve from 0.00404\n",
            "2/2 [==============================] - 0s 57ms/step - loss: 0.0037 - root_mean_squared_error: 0.0608 - val_loss: 0.0220 - val_root_mean_squared_error: 0.1484\n",
            "Epoch 23/500\n",
            "1/2 [==============>...............] - ETA: 0s - loss: 0.0037 - root_mean_squared_error: 0.0605\n",
            "Epoch 23: val_loss did not improve from 0.00404\n",
            "2/2 [==============================] - 0s 50ms/step - loss: 0.0034 - root_mean_squared_error: 0.0580 - val_loss: 0.0179 - val_root_mean_squared_error: 0.1336\n",
            "Epoch 24/500\n",
            "1/2 [==============>...............] - ETA: 0s - loss: 0.0032 - root_mean_squared_error: 0.0569\n",
            "Epoch 24: val_loss did not improve from 0.00404\n",
            "2/2 [==============================] - 0s 49ms/step - loss: 0.0027 - root_mean_squared_error: 0.0522 - val_loss: 0.0102 - val_root_mean_squared_error: 0.1008\n",
            "Epoch 25/500\n",
            "1/2 [==============>...............] - ETA: 0s - loss: 0.0019 - root_mean_squared_error: 0.0431\n",
            "Epoch 25: val_loss improved from 0.00404 to 0.00272, saving model to /content/sample_data/lstm-model-uptrend.h5\n",
            "2/2 [==============================] - 0s 89ms/step - loss: 0.0018 - root_mean_squared_error: 0.0425 - val_loss: 0.0027 - val_root_mean_squared_error: 0.0522\n",
            "Epoch 26/500\n",
            "1/2 [==============>...............] - ETA: 0s - loss: 0.0011 - root_mean_squared_error: 0.0338\n",
            "Epoch 26: val_loss improved from 0.00272 to 0.00006, saving model to /content/sample_data/lstm-model-uptrend.h5\n",
            "2/2 [==============================] - 0s 104ms/step - loss: 0.0011 - root_mean_squared_error: 0.0335 - val_loss: 5.6052e-05 - val_root_mean_squared_error: 0.0075\n",
            "Epoch 27/500\n",
            "1/2 [==============>...............] - ETA: 0s - loss: 8.3413e-04 - root_mean_squared_error: 0.0289\n",
            "Epoch 27: val_loss did not improve from 0.00006\n",
            "2/2 [==============================] - 0s 52ms/step - loss: 9.9424e-04 - root_mean_squared_error: 0.0315 - val_loss: 5.2346e-04 - val_root_mean_squared_error: 0.0229\n",
            "Epoch 28/500\n",
            "1/2 [==============>...............] - ETA: 0s - loss: 6.1500e-04 - root_mean_squared_error: 0.0248\n",
            "Epoch 28: val_loss did not improve from 0.00006\n",
            "2/2 [==============================] - 0s 52ms/step - loss: 7.2664e-04 - root_mean_squared_error: 0.0270 - val_loss: 5.5463e-04 - val_root_mean_squared_error: 0.0236\n",
            "Epoch 29/500\n",
            "1/2 [==============>...............] - ETA: 0s - loss: 4.4380e-04 - root_mean_squared_error: 0.0211\n",
            "Epoch 29: val_loss did not improve from 0.00006\n",
            "2/2 [==============================] - 0s 56ms/step - loss: 4.3548e-04 - root_mean_squared_error: 0.0209 - val_loss: 1.9415e-04 - val_root_mean_squared_error: 0.0139\n",
            "Epoch 30/500\n",
            "1/2 [==============>...............] - ETA: 0s - loss: 4.2772e-04 - root_mean_squared_error: 0.0207\n",
            "Epoch 30: val_loss did not improve from 0.00006\n",
            "2/2 [==============================] - 0s 52ms/step - loss: 4.7132e-04 - root_mean_squared_error: 0.0217 - val_loss: 2.7123e-04 - val_root_mean_squared_error: 0.0165\n",
            "Epoch 31/500\n",
            "1/2 [==============>...............] - ETA: 0s - loss: 7.7743e-04 - root_mean_squared_error: 0.0279\n",
            "Epoch 31: val_loss did not improve from 0.00006\n",
            "2/2 [==============================] - 0s 53ms/step - loss: 5.9237e-04 - root_mean_squared_error: 0.0243 - val_loss: 0.0013 - val_root_mean_squared_error: 0.0356\n",
            "Epoch 32/500\n",
            "1/2 [==============>...............] - ETA: 0s - loss: 6.3128e-04 - root_mean_squared_error: 0.0251\n",
            "Epoch 32: val_loss did not improve from 0.00006\n",
            "2/2 [==============================] - 0s 55ms/step - loss: 5.6629e-04 - root_mean_squared_error: 0.0238 - val_loss: 0.0041 - val_root_mean_squared_error: 0.0637\n",
            "Epoch 33/500\n",
            "1/2 [==============>...............] - ETA: 0s - loss: 5.8104e-04 - root_mean_squared_error: 0.0241\n",
            "Epoch 33: val_loss did not improve from 0.00006\n",
            "2/2 [==============================] - 0s 51ms/step - loss: 6.1847e-04 - root_mean_squared_error: 0.0249 - val_loss: 0.0062 - val_root_mean_squared_error: 0.0785\n",
            "Epoch 34/500\n",
            "1/2 [==============>...............] - ETA: 0s - loss: 6.9581e-04 - root_mean_squared_error: 0.0264\n",
            "Epoch 34: val_loss did not improve from 0.00006\n",
            "2/2 [==============================] - 0s 52ms/step - loss: 6.6997e-04 - root_mean_squared_error: 0.0259 - val_loss: 0.0046 - val_root_mean_squared_error: 0.0675\n",
            "Epoch 35/500\n",
            "1/2 [==============>...............] - ETA: 0s - loss: 5.9213e-04 - root_mean_squared_error: 0.0243\n",
            "Epoch 35: val_loss did not improve from 0.00006\n",
            "2/2 [==============================] - 0s 49ms/step - loss: 5.7106e-04 - root_mean_squared_error: 0.0239 - val_loss: 0.0023 - val_root_mean_squared_error: 0.0476\n",
            "Epoch 36/500\n",
            "1/2 [==============>...............] - ETA: 0s - loss: 7.6950e-04 - root_mean_squared_error: 0.0277\n",
            "Epoch 36: val_loss did not improve from 0.00006\n",
            "2/2 [==============================] - 0s 54ms/step - loss: 5.1967e-04 - root_mean_squared_error: 0.0228 - val_loss: 0.0011 - val_root_mean_squared_error: 0.0327\n",
            "Epoch 37/500\n",
            "1/2 [==============>...............] - ETA: 0s - loss: 4.4369e-04 - root_mean_squared_error: 0.0211\n",
            "Epoch 37: val_loss did not improve from 0.00006\n",
            "2/2 [==============================] - 0s 49ms/step - loss: 4.8334e-04 - root_mean_squared_error: 0.0220 - val_loss: 7.7838e-04 - val_root_mean_squared_error: 0.0279\n",
            "Epoch 38/500\n",
            "1/2 [==============>...............] - ETA: 0s - loss: 3.9267e-04 - root_mean_squared_error: 0.0198\n",
            "Epoch 38: val_loss did not improve from 0.00006\n",
            "2/2 [==============================] - 0s 50ms/step - loss: 4.1750e-04 - root_mean_squared_error: 0.0204 - val_loss: 9.9734e-04 - val_root_mean_squared_error: 0.0316\n",
            "Epoch 39/500\n",
            "1/2 [==============>...............] - ETA: 0s - loss: 4.8365e-04 - root_mean_squared_error: 0.0220\n",
            "Epoch 39: val_loss did not improve from 0.00006\n",
            "2/2 [==============================] - 0s 51ms/step - loss: 3.7655e-04 - root_mean_squared_error: 0.0194 - val_loss: 9.7589e-04 - val_root_mean_squared_error: 0.0312\n",
            "Epoch 40/500\n",
            "1/2 [==============>...............] - ETA: 0s - loss: 4.0830e-04 - root_mean_squared_error: 0.0202\n",
            "Epoch 40: val_loss did not improve from 0.00006\n",
            "2/2 [==============================] - 0s 55ms/step - loss: 3.8111e-04 - root_mean_squared_error: 0.0195 - val_loss: 5.9731e-04 - val_root_mean_squared_error: 0.0244\n",
            "Epoch 41/500\n",
            "1/2 [==============>...............] - ETA: 0s - loss: 3.4203e-04 - root_mean_squared_error: 0.0185\n",
            "Epoch 41: val_loss did not improve from 0.00006\n",
            "2/2 [==============================] - 0s 53ms/step - loss: 3.7886e-04 - root_mean_squared_error: 0.0195 - val_loss: 1.7637e-04 - val_root_mean_squared_error: 0.0133\n",
            "Epoch 42/500\n",
            "1/2 [==============>...............] - ETA: 0s - loss: 2.8067e-04 - root_mean_squared_error: 0.0168\n",
            "Epoch 42: val_loss improved from 0.00006 to 0.00006, saving model to /content/sample_data/lstm-model-uptrend.h5\n",
            "2/2 [==============================] - 0s 91ms/step - loss: 3.6951e-04 - root_mean_squared_error: 0.0192 - val_loss: 5.5352e-05 - val_root_mean_squared_error: 0.0074\n",
            "Epoch 43/500\n",
            "1/2 [==============>...............] - ETA: 0s - loss: 5.2961e-04 - root_mean_squared_error: 0.0230\n",
            "Epoch 43: val_loss improved from 0.00006 to 0.00004, saving model to /content/sample_data/lstm-model-uptrend.h5\n",
            "2/2 [==============================] - 0s 98ms/step - loss: 3.9021e-04 - root_mean_squared_error: 0.0198 - val_loss: 4.4805e-05 - val_root_mean_squared_error: 0.0067\n",
            "Epoch 44/500\n",
            "1/2 [==============>...............] - ETA: 0s - loss: 2.6738e-04 - root_mean_squared_error: 0.0164\n",
            "Epoch 44: val_loss did not improve from 0.00004\n",
            "2/2 [==============================] - 0s 52ms/step - loss: 3.9194e-04 - root_mean_squared_error: 0.0198 - val_loss: 6.4766e-05 - val_root_mean_squared_error: 0.0080\n",
            "Epoch 45/500\n",
            "1/2 [==============>...............] - ETA: 0s - loss: 3.4270e-04 - root_mean_squared_error: 0.0185\n",
            "Epoch 45: val_loss did not improve from 0.00004\n",
            "2/2 [==============================] - 0s 66ms/step - loss: 3.8662e-04 - root_mean_squared_error: 0.0197 - val_loss: 1.7985e-04 - val_root_mean_squared_error: 0.0134\n",
            "Epoch 46/500\n",
            "1/2 [==============>...............] - ETA: 0s - loss: 5.0274e-04 - root_mean_squared_error: 0.0224\n",
            "Epoch 46: val_loss did not improve from 0.00004\n",
            "2/2 [==============================] - 0s 49ms/step - loss: 4.0015e-04 - root_mean_squared_error: 0.0200 - val_loss: 2.3915e-04 - val_root_mean_squared_error: 0.0155\n",
            "Epoch 47/500\n",
            "1/2 [==============>...............] - ETA: 0s - loss: 2.6676e-04 - root_mean_squared_error: 0.0163\n",
            "Epoch 47: val_loss did not improve from 0.00004\n",
            "2/2 [==============================] - 0s 52ms/step - loss: 3.9081e-04 - root_mean_squared_error: 0.0198 - val_loss: 1.3175e-04 - val_root_mean_squared_error: 0.0115\n",
            "Epoch 48/500\n",
            "1/2 [==============>...............] - ETA: 0s - loss: 4.4201e-04 - root_mean_squared_error: 0.0210\n",
            "Epoch 48: val_loss did not improve from 0.00004\n",
            "2/2 [==============================] - 0s 53ms/step - loss: 3.7608e-04 - root_mean_squared_error: 0.0194 - val_loss: 8.1468e-05 - val_root_mean_squared_error: 0.0090\n",
            "Epoch 49/500\n",
            "1/2 [==============>...............] - ETA: 0s - loss: 5.1827e-04 - root_mean_squared_error: 0.0228\n",
            "Epoch 49: val_loss did not improve from 0.00004\n",
            "2/2 [==============================] - 0s 49ms/step - loss: 3.7772e-04 - root_mean_squared_error: 0.0194 - val_loss: 9.2024e-05 - val_root_mean_squared_error: 0.0096\n",
            "Epoch 50/500\n",
            "1/2 [==============>...............] - ETA: 0s - loss: 3.1006e-04 - root_mean_squared_error: 0.0176\n",
            "Epoch 50: val_loss did not improve from 0.00004\n",
            "2/2 [==============================] - 0s 65ms/step - loss: 3.7565e-04 - root_mean_squared_error: 0.0194 - val_loss: 2.3569e-04 - val_root_mean_squared_error: 0.0154\n",
            "Epoch 51/500\n",
            "1/2 [==============>...............] - ETA: 0s - loss: 4.5655e-04 - root_mean_squared_error: 0.0214\n",
            "Epoch 51: val_loss did not improve from 0.00004\n",
            "2/2 [==============================] - 0s 49ms/step - loss: 3.6390e-04 - root_mean_squared_error: 0.0191 - val_loss: 3.8124e-04 - val_root_mean_squared_error: 0.0195\n",
            "Epoch 52/500\n",
            "1/2 [==============>...............] - ETA: 0s - loss: 3.5953e-04 - root_mean_squared_error: 0.0190\n",
            "Epoch 52: val_loss did not improve from 0.00004\n",
            "2/2 [==============================] - 0s 49ms/step - loss: 3.6334e-04 - root_mean_squared_error: 0.0191 - val_loss: 4.7295e-04 - val_root_mean_squared_error: 0.0217\n",
            "Epoch 53/500\n",
            "1/2 [==============>...............] - ETA: 0s - loss: 2.9501e-04 - root_mean_squared_error: 0.0172\n",
            "Epoch 53: val_loss did not improve from 0.00004\n",
            "2/2 [==============================] - 0s 55ms/step - loss: 3.6603e-04 - root_mean_squared_error: 0.0191 - val_loss: 4.3246e-04 - val_root_mean_squared_error: 0.0208\n",
            "Epoch 54/500\n",
            "1/2 [==============>...............] - ETA: 0s - loss: 2.6491e-04 - root_mean_squared_error: 0.0163\n",
            "Epoch 54: val_loss did not improve from 0.00004\n",
            "2/2 [==============================] - 0s 50ms/step - loss: 3.6314e-04 - root_mean_squared_error: 0.0191 - val_loss: 4.0183e-04 - val_root_mean_squared_error: 0.0200\n",
            "Epoch 55/500\n",
            "1/2 [==============>...............] - ETA: 0s - loss: 4.8293e-04 - root_mean_squared_error: 0.0220\n",
            "Epoch 55: val_loss did not improve from 0.00004\n",
            "2/2 [==============================] - 0s 66ms/step - loss: 3.6513e-04 - root_mean_squared_error: 0.0191 - val_loss: 4.3307e-04 - val_root_mean_squared_error: 0.0208\n",
            "Epoch 56/500\n",
            "1/2 [==============>...............] - ETA: 0s - loss: 2.9538e-04 - root_mean_squared_error: 0.0172\n",
            "Epoch 56: val_loss did not improve from 0.00004\n",
            "2/2 [==============================] - 0s 49ms/step - loss: 3.6582e-04 - root_mean_squared_error: 0.0191 - val_loss: 4.9528e-04 - val_root_mean_squared_error: 0.0223\n",
            "Epoch 57/500\n",
            "1/2 [==============>...............] - ETA: 0s - loss: 3.8242e-04 - root_mean_squared_error: 0.0196\n",
            "Epoch 57: val_loss did not improve from 0.00004\n",
            "2/2 [==============================] - 0s 48ms/step - loss: 3.6627e-04 - root_mean_squared_error: 0.0191 - val_loss: 5.1630e-04 - val_root_mean_squared_error: 0.0227\n",
            "Epoch 58/500\n",
            "1/2 [==============>...............] - ETA: 0s - loss: 3.1135e-04 - root_mean_squared_error: 0.0176\n",
            "Epoch 58: val_loss did not improve from 0.00004\n",
            "2/2 [==============================] - 0s 46ms/step - loss: 3.6601e-04 - root_mean_squared_error: 0.0191 - val_loss: 4.4796e-04 - val_root_mean_squared_error: 0.0212\n",
            "Epoch 59/500\n",
            "1/2 [==============>...............] - ETA: 0s - loss: 2.7383e-04 - root_mean_squared_error: 0.0165\n",
            "Epoch 59: val_loss did not improve from 0.00004\n",
            "2/2 [==============================] - 0s 54ms/step - loss: 3.6491e-04 - root_mean_squared_error: 0.0191 - val_loss: 4.1517e-04 - val_root_mean_squared_error: 0.0204\n",
            "Epoch 60/500\n",
            "1/2 [==============>...............] - ETA: 0s - loss: 2.8625e-04 - root_mean_squared_error: 0.0169\n",
            "Epoch 60: val_loss did not improve from 0.00004\n",
            "2/2 [==============================] - 0s 57ms/step - loss: 3.6360e-04 - root_mean_squared_error: 0.0191 - val_loss: 3.6360e-04 - val_root_mean_squared_error: 0.0191\n",
            "Epoch 61/500\n",
            "1/2 [==============>...............] - ETA: 0s - loss: 4.0383e-04 - root_mean_squared_error: 0.0201\n",
            "Epoch 61: val_loss did not improve from 0.00004\n",
            "2/2 [==============================] - 0s 49ms/step - loss: 3.6234e-04 - root_mean_squared_error: 0.0190 - val_loss: 3.1038e-04 - val_root_mean_squared_error: 0.0176\n",
            "Epoch 62/500\n",
            "1/2 [==============>...............] - ETA: 0s - loss: 3.0621e-04 - root_mean_squared_error: 0.0175\n",
            "Epoch 62: val_loss did not improve from 0.00004\n",
            "2/2 [==============================] - 0s 63ms/step - loss: 3.6212e-04 - root_mean_squared_error: 0.0190 - val_loss: 2.8106e-04 - val_root_mean_squared_error: 0.0168\n",
            "Epoch 63/500\n",
            "1/2 [==============>...............] - ETA: 0s - loss: 3.4170e-04 - root_mean_squared_error: 0.0185\n",
            "Epoch 63: val_loss did not improve from 0.00004\n",
            "2/2 [==============================] - 0s 54ms/step - loss: 3.6269e-04 - root_mean_squared_error: 0.0190 - val_loss: 2.4824e-04 - val_root_mean_squared_error: 0.0158\n",
            "Epoch 64/500\n",
            "1/2 [==============>...............] - ETA: 0s - loss: 4.7009e-04 - root_mean_squared_error: 0.0217\n",
            "Epoch 64: val_loss did not improve from 0.00004\n",
            "2/2 [==============================] - 0s 57ms/step - loss: 3.6182e-04 - root_mean_squared_error: 0.0190 - val_loss: 2.6059e-04 - val_root_mean_squared_error: 0.0161\n",
            "Epoch 65/500\n",
            "1/2 [==============>...............] - ETA: 0s - loss: 3.6047e-04 - root_mean_squared_error: 0.0190\n",
            "Epoch 65: val_loss did not improve from 0.00004\n",
            "2/2 [==============================] - 0s 54ms/step - loss: 3.6682e-04 - root_mean_squared_error: 0.0192 - val_loss: 2.5245e-04 - val_root_mean_squared_error: 0.0159\n",
            "Epoch 66/500\n",
            "1/2 [==============>...............] - ETA: 0s - loss: 3.9256e-04 - root_mean_squared_error: 0.0198\n",
            "Epoch 66: val_loss did not improve from 0.00004\n",
            "2/2 [==============================] - 0s 65ms/step - loss: 3.6135e-04 - root_mean_squared_error: 0.0190 - val_loss: 3.2399e-04 - val_root_mean_squared_error: 0.0180\n",
            "Epoch 67/500\n",
            "1/2 [==============>...............] - ETA: 0s - loss: 2.5404e-04 - root_mean_squared_error: 0.0159\n",
            "Epoch 67: val_loss did not improve from 0.00004\n",
            "2/2 [==============================] - 0s 53ms/step - loss: 3.6594e-04 - root_mean_squared_error: 0.0191 - val_loss: 3.3207e-04 - val_root_mean_squared_error: 0.0182\n",
            "Epoch 68/500\n",
            "1/2 [==============>...............] - ETA: 0s - loss: 4.0651e-04 - root_mean_squared_error: 0.0202\n",
            "Epoch 68: val_loss did not improve from 0.00004\n",
            "2/2 [==============================] - 0s 67ms/step - loss: 3.6231e-04 - root_mean_squared_error: 0.0190 - val_loss: 2.0744e-04 - val_root_mean_squared_error: 0.0144\n",
            "Epoch 69/500\n",
            "1/2 [==============>...............] - ETA: 0s - loss: 3.6145e-04 - root_mean_squared_error: 0.0190\n",
            "Epoch 69: val_loss did not improve from 0.00004\n",
            "2/2 [==============================] - 0s 57ms/step - loss: 3.7242e-04 - root_mean_squared_error: 0.0193 - val_loss: 1.3963e-04 - val_root_mean_squared_error: 0.0118\n",
            "Epoch 70/500\n",
            "1/2 [==============>...............] - ETA: 0s - loss: 4.4842e-04 - root_mean_squared_error: 0.0212\n",
            "Epoch 70: val_loss did not improve from 0.00004\n",
            "2/2 [==============================] - 0s 58ms/step - loss: 3.6904e-04 - root_mean_squared_error: 0.0192 - val_loss: 2.2293e-04 - val_root_mean_squared_error: 0.0149\n",
            "Epoch 71/500\n",
            "1/2 [==============>...............] - ETA: 0s - loss: 4.4380e-04 - root_mean_squared_error: 0.0211\n",
            "Epoch 71: val_loss did not improve from 0.00004\n",
            "2/2 [==============================] - 0s 48ms/step - loss: 3.6197e-04 - root_mean_squared_error: 0.0190 - val_loss: 2.6471e-04 - val_root_mean_squared_error: 0.0163\n",
            "Epoch 72/500\n",
            "1/2 [==============>...............] - ETA: 0s - loss: 2.8240e-04 - root_mean_squared_error: 0.0168\n",
            "Epoch 72: val_loss did not improve from 0.00004\n",
            "2/2 [==============================] - 0s 52ms/step - loss: 3.6184e-04 - root_mean_squared_error: 0.0190 - val_loss: 2.7714e-04 - val_root_mean_squared_error: 0.0166\n",
            "Epoch 73/500\n",
            "1/2 [==============>...............] - ETA: 0s - loss: 3.3271e-04 - root_mean_squared_error: 0.0182\n",
            "Epoch 73: val_loss did not improve from 0.00004\n",
            "2/2 [==============================] - 0s 53ms/step - loss: 3.6261e-04 - root_mean_squared_error: 0.0190 - val_loss: 2.6871e-04 - val_root_mean_squared_error: 0.0164\n",
            "Epoch 74/500\n",
            "1/2 [==============>...............] - ETA: 0s - loss: 3.1464e-04 - root_mean_squared_error: 0.0177\n",
            "Epoch 74: val_loss did not improve from 0.00004\n",
            "2/2 [==============================] - 0s 50ms/step - loss: 3.6174e-04 - root_mean_squared_error: 0.0190 - val_loss: 1.9868e-04 - val_root_mean_squared_error: 0.0141\n",
            "Epoch 75/500\n",
            "1/2 [==============>...............] - ETA: 0s - loss: 3.7914e-04 - root_mean_squared_error: 0.0195\n",
            "Epoch 75: val_loss did not improve from 0.00004\n",
            "2/2 [==============================] - 0s 68ms/step - loss: 3.6087e-04 - root_mean_squared_error: 0.0190 - val_loss: 1.4470e-04 - val_root_mean_squared_error: 0.0120\n",
            "Epoch 76/500\n",
            "1/2 [==============>...............] - ETA: 0s - loss: 3.2982e-04 - root_mean_squared_error: 0.0182\n",
            "Epoch 76: val_loss did not improve from 0.00004\n",
            "2/2 [==============================] - 0s 60ms/step - loss: 3.6581e-04 - root_mean_squared_error: 0.0191 - val_loss: 1.8454e-04 - val_root_mean_squared_error: 0.0136\n",
            "Epoch 77/500\n",
            "1/2 [==============>...............] - ETA: 0s - loss: 1.9224e-04 - root_mean_squared_error: 0.0139\n",
            "Epoch 77: val_loss did not improve from 0.00004\n",
            "2/2 [==============================] - 0s 74ms/step - loss: 3.6132e-04 - root_mean_squared_error: 0.0190 - val_loss: 3.0062e-04 - val_root_mean_squared_error: 0.0173\n",
            "Epoch 78/500\n",
            "1/2 [==============>...............] - ETA: 0s - loss: 3.7396e-04 - root_mean_squared_error: 0.0193\n",
            "Epoch 78: val_loss did not improve from 0.00004\n",
            "2/2 [==============================] - 0s 56ms/step - loss: 3.6149e-04 - root_mean_squared_error: 0.0190 - val_loss: 3.2843e-04 - val_root_mean_squared_error: 0.0181\n",
            "Epoch 79/500\n",
            "1/2 [==============>...............] - ETA: 0s - loss: 4.5718e-04 - root_mean_squared_error: 0.0214\n",
            "Epoch 79: val_loss did not improve from 0.00004\n",
            "2/2 [==============================] - 0s 58ms/step - loss: 3.6402e-04 - root_mean_squared_error: 0.0191 - val_loss: 2.7312e-04 - val_root_mean_squared_error: 0.0165\n",
            "Epoch 80/500\n",
            "1/2 [==============>...............] - ETA: 0s - loss: 3.8425e-04 - root_mean_squared_error: 0.0196\n",
            "Epoch 80: val_loss did not improve from 0.00004\n",
            "2/2 [==============================] - 0s 57ms/step - loss: 3.6437e-04 - root_mean_squared_error: 0.0191 - val_loss: 2.1395e-04 - val_root_mean_squared_error: 0.0146\n",
            "Epoch 81/500\n",
            "1/2 [==============>...............] - ETA: 0s - loss: 4.2090e-04 - root_mean_squared_error: 0.0205\n",
            "Epoch 81: val_loss did not improve from 0.00004\n",
            "2/2 [==============================] - 0s 50ms/step - loss: 3.6034e-04 - root_mean_squared_error: 0.0190 - val_loss: 2.1914e-04 - val_root_mean_squared_error: 0.0148\n",
            "Epoch 82/500\n",
            "1/2 [==============>...............] - ETA: 0s - loss: 3.4495e-04 - root_mean_squared_error: 0.0186\n",
            "Epoch 82: val_loss did not improve from 0.00004\n",
            "2/2 [==============================] - 0s 54ms/step - loss: 3.6022e-04 - root_mean_squared_error: 0.0190 - val_loss: 2.1283e-04 - val_root_mean_squared_error: 0.0146\n",
            "Epoch 83/500\n",
            "1/2 [==============>...............] - ETA: 0s - loss: 3.7550e-04 - root_mean_squared_error: 0.0194\n",
            "Epoch 83: val_loss did not improve from 0.00004\n",
            "2/2 [==============================] - 0s 53ms/step - loss: 3.6155e-04 - root_mean_squared_error: 0.0190 - val_loss: 2.1087e-04 - val_root_mean_squared_error: 0.0145\n",
            "Epoch 84/500\n",
            "1/2 [==============>...............] - ETA: 0s - loss: 3.7846e-04 - root_mean_squared_error: 0.0195\n",
            "Epoch 84: val_loss did not improve from 0.00004\n",
            "2/2 [==============================] - 0s 54ms/step - loss: 3.5985e-04 - root_mean_squared_error: 0.0190 - val_loss: 2.4856e-04 - val_root_mean_squared_error: 0.0158\n",
            "Epoch 85/500\n",
            "1/2 [==============>...............] - ETA: 0s - loss: 3.7579e-04 - root_mean_squared_error: 0.0194\n",
            "Epoch 85: val_loss did not improve from 0.00004\n",
            "2/2 [==============================] - 0s 52ms/step - loss: 3.6185e-04 - root_mean_squared_error: 0.0190 - val_loss: 2.3620e-04 - val_root_mean_squared_error: 0.0154\n",
            "Epoch 86/500\n",
            "1/2 [==============>...............] - ETA: 0s - loss: 2.7031e-04 - root_mean_squared_error: 0.0164\n",
            "Epoch 86: val_loss did not improve from 0.00004\n",
            "2/2 [==============================] - 0s 49ms/step - loss: 3.6062e-04 - root_mean_squared_error: 0.0190 - val_loss: 1.6754e-04 - val_root_mean_squared_error: 0.0129\n",
            "Epoch 87/500\n",
            "1/2 [==============>...............] - ETA: 0s - loss: 4.0526e-04 - root_mean_squared_error: 0.0201\n",
            "Epoch 87: val_loss did not improve from 0.00004\n",
            "2/2 [==============================] - 0s 56ms/step - loss: 3.6003e-04 - root_mean_squared_error: 0.0190 - val_loss: 1.1985e-04 - val_root_mean_squared_error: 0.0109\n",
            "Epoch 88/500\n",
            "1/2 [==============>...............] - ETA: 0s - loss: 4.5974e-04 - root_mean_squared_error: 0.0214\n",
            "Epoch 88: val_loss did not improve from 0.00004\n",
            "2/2 [==============================] - 0s 50ms/step - loss: 3.6336e-04 - root_mean_squared_error: 0.0191 - val_loss: 1.3284e-04 - val_root_mean_squared_error: 0.0115\n",
            "Epoch 89/500\n",
            "1/2 [==============>...............] - ETA: 0s - loss: 4.7577e-04 - root_mean_squared_error: 0.0218\n",
            "Epoch 89: val_loss did not improve from 0.00004\n",
            "2/2 [==============================] - 0s 56ms/step - loss: 3.6082e-04 - root_mean_squared_error: 0.0190 - val_loss: 1.8416e-04 - val_root_mean_squared_error: 0.0136\n",
            "Epoch 90/500\n",
            "1/2 [==============>...............] - ETA: 0s - loss: 3.3731e-04 - root_mean_squared_error: 0.0184\n",
            "Epoch 90: val_loss did not improve from 0.00004\n",
            "2/2 [==============================] - 0s 51ms/step - loss: 3.6081e-04 - root_mean_squared_error: 0.0190 - val_loss: 2.4333e-04 - val_root_mean_squared_error: 0.0156\n",
            "Epoch 91/500\n",
            "1/2 [==============>...............] - ETA: 0s - loss: 4.9299e-04 - root_mean_squared_error: 0.0222\n",
            "Epoch 91: val_loss did not improve from 0.00004\n",
            "2/2 [==============================] - 0s 53ms/step - loss: 3.6131e-04 - root_mean_squared_error: 0.0190 - val_loss: 2.0867e-04 - val_root_mean_squared_error: 0.0144\n",
            "Epoch 92/500\n",
            "1/2 [==============>...............] - ETA: 0s - loss: 3.8020e-04 - root_mean_squared_error: 0.0195\n",
            "Epoch 92: val_loss did not improve from 0.00004\n",
            "2/2 [==============================] - 0s 55ms/step - loss: 3.6202e-04 - root_mean_squared_error: 0.0190 - val_loss: 1.7243e-04 - val_root_mean_squared_error: 0.0131\n",
            "Epoch 93/500\n",
            "1/2 [==============>...............] - ETA: 0s - loss: 3.6336e-04 - root_mean_squared_error: 0.0191\n",
            "Epoch 93: val_loss did not improve from 0.00004\n",
            "2/2 [==============================] - 0s 56ms/step - loss: 3.5971e-04 - root_mean_squared_error: 0.0190 - val_loss: 2.0298e-04 - val_root_mean_squared_error: 0.0142\n",
            "Epoch 94/500\n",
            "1/2 [==============>...............] - ETA: 0s - loss: 2.7892e-04 - root_mean_squared_error: 0.0167\n",
            "Epoch 94: val_loss did not improve from 0.00004\n",
            "2/2 [==============================] - 0s 50ms/step - loss: 3.6032e-04 - root_mean_squared_error: 0.0190 - val_loss: 2.1521e-04 - val_root_mean_squared_error: 0.0147\n",
            "Epoch 95/500\n",
            "1/2 [==============>...............] - ETA: 0s - loss: 3.7896e-04 - root_mean_squared_error: 0.0195\n",
            "Epoch 95: val_loss did not improve from 0.00004\n",
            "2/2 [==============================] - 0s 49ms/step - loss: 3.5943e-04 - root_mean_squared_error: 0.0190 - val_loss: 2.3345e-04 - val_root_mean_squared_error: 0.0153\n",
            "Epoch 96/500\n",
            "1/2 [==============>...............] - ETA: 0s - loss: 3.3965e-04 - root_mean_squared_error: 0.0184\n",
            "Epoch 96: val_loss did not improve from 0.00004\n",
            "2/2 [==============================] - 0s 53ms/step - loss: 3.6095e-04 - root_mean_squared_error: 0.0190 - val_loss: 2.0071e-04 - val_root_mean_squared_error: 0.0142\n",
            "Epoch 97/500\n",
            "1/2 [==============>...............] - ETA: 0s - loss: 4.2918e-04 - root_mean_squared_error: 0.0207\n",
            "Epoch 97: val_loss did not improve from 0.00004\n",
            "2/2 [==============================] - 0s 54ms/step - loss: 3.6083e-04 - root_mean_squared_error: 0.0190 - val_loss: 1.4013e-04 - val_root_mean_squared_error: 0.0118\n",
            "Epoch 98/500\n",
            "1/2 [==============>...............] - ETA: 0s - loss: 2.9278e-04 - root_mean_squared_error: 0.0171\n",
            "Epoch 98: val_loss did not improve from 0.00004\n",
            "2/2 [==============================] - 0s 58ms/step - loss: 3.6020e-04 - root_mean_squared_error: 0.0190 - val_loss: 1.1143e-04 - val_root_mean_squared_error: 0.0106\n",
            "Epoch 99/500\n",
            "1/2 [==============>...............] - ETA: 0s - loss: 4.7626e-04 - root_mean_squared_error: 0.0218\n",
            "Epoch 99: val_loss did not improve from 0.00004\n",
            "2/2 [==============================] - 0s 56ms/step - loss: 3.6243e-04 - root_mean_squared_error: 0.0190 - val_loss: 1.7043e-04 - val_root_mean_squared_error: 0.0131\n",
            "Epoch 100/500\n",
            "1/2 [==============>...............] - ETA: 0s - loss: 3.9950e-04 - root_mean_squared_error: 0.0200\n",
            "Epoch 100: val_loss did not improve from 0.00004\n",
            "2/2 [==============================] - 0s 68ms/step - loss: 3.5905e-04 - root_mean_squared_error: 0.0189 - val_loss: 2.4653e-04 - val_root_mean_squared_error: 0.0157\n",
            "Epoch 101/500\n",
            "1/2 [==============>...............] - ETA: 0s - loss: 2.4408e-04 - root_mean_squared_error: 0.0156\n",
            "Epoch 101: val_loss did not improve from 0.00004\n",
            "2/2 [==============================] - 0s 52ms/step - loss: 3.6043e-04 - root_mean_squared_error: 0.0190 - val_loss: 2.6668e-04 - val_root_mean_squared_error: 0.0163\n",
            "Epoch 102/500\n",
            "1/2 [==============>...............] - ETA: 0s - loss: 2.7500e-04 - root_mean_squared_error: 0.0166\n",
            "Epoch 102: val_loss did not improve from 0.00004\n",
            "2/2 [==============================] - 0s 59ms/step - loss: 3.6152e-04 - root_mean_squared_error: 0.0190 - val_loss: 2.1919e-04 - val_root_mean_squared_error: 0.0148\n",
            "Epoch 103/500\n",
            "1/2 [==============>...............] - ETA: 0s - loss: 3.6330e-04 - root_mean_squared_error: 0.0191\n",
            "Epoch 103: val_loss did not improve from 0.00004\n",
            "2/2 [==============================] - 0s 53ms/step - loss: 3.6130e-04 - root_mean_squared_error: 0.0190 - val_loss: 1.8421e-04 - val_root_mean_squared_error: 0.0136\n",
            "Epoch 104/500\n",
            "1/2 [==============>...............] - ETA: 0s - loss: 4.2153e-04 - root_mean_squared_error: 0.0205\n",
            "Epoch 104: val_loss did not improve from 0.00004\n",
            "2/2 [==============================] - 0s 67ms/step - loss: 3.5840e-04 - root_mean_squared_error: 0.0189 - val_loss: 1.3352e-04 - val_root_mean_squared_error: 0.0116\n",
            "Epoch 105/500\n",
            "1/2 [==============>...............] - ETA: 0s - loss: 4.1364e-04 - root_mean_squared_error: 0.0203\n",
            "Epoch 105: val_loss did not improve from 0.00004\n",
            "2/2 [==============================] - 0s 49ms/step - loss: 3.6190e-04 - root_mean_squared_error: 0.0190 - val_loss: 1.2898e-04 - val_root_mean_squared_error: 0.0114\n",
            "Epoch 106/500\n",
            "1/2 [==============>...............] - ETA: 0s - loss: 3.8682e-04 - root_mean_squared_error: 0.0197\n",
            "Epoch 106: val_loss did not improve from 0.00004\n",
            "2/2 [==============================] - 0s 54ms/step - loss: 3.6084e-04 - root_mean_squared_error: 0.0190 - val_loss: 2.0847e-04 - val_root_mean_squared_error: 0.0144\n",
            "Epoch 107/500\n",
            "1/2 [==============>...............] - ETA: 0s - loss: 3.7690e-04 - root_mean_squared_error: 0.0194\n",
            "Epoch 107: val_loss did not improve from 0.00004\n",
            "2/2 [==============================] - 0s 51ms/step - loss: 3.5952e-04 - root_mean_squared_error: 0.0190 - val_loss: 2.3369e-04 - val_root_mean_squared_error: 0.0153\n",
            "Epoch 108/500\n",
            "1/2 [==============>...............] - ETA: 0s - loss: 3.4956e-04 - root_mean_squared_error: 0.0187\n",
            "Epoch 108: val_loss did not improve from 0.00004\n",
            "2/2 [==============================] - 0s 50ms/step - loss: 3.5972e-04 - root_mean_squared_error: 0.0190 - val_loss: 1.9344e-04 - val_root_mean_squared_error: 0.0139\n",
            "Epoch 109/500\n",
            "1/2 [==============>...............] - ETA: 0s - loss: 3.8198e-04 - root_mean_squared_error: 0.0195\n",
            "Epoch 109: val_loss did not improve from 0.00004\n",
            "2/2 [==============================] - 0s 51ms/step - loss: 3.6128e-04 - root_mean_squared_error: 0.0190 - val_loss: 1.4465e-04 - val_root_mean_squared_error: 0.0120\n",
            "Epoch 110/500\n",
            "1/2 [==============>...............] - ETA: 0s - loss: 3.4773e-04 - root_mean_squared_error: 0.0186\n",
            "Epoch 110: val_loss did not improve from 0.00004\n",
            "2/2 [==============================] - 0s 50ms/step - loss: 3.5831e-04 - root_mean_squared_error: 0.0189 - val_loss: 1.1083e-04 - val_root_mean_squared_error: 0.0105\n",
            "Epoch 111/500\n",
            "1/2 [==============>...............] - ETA: 0s - loss: 3.5503e-04 - root_mean_squared_error: 0.0188\n",
            "Epoch 111: val_loss did not improve from 0.00004\n",
            "2/2 [==============================] - 0s 51ms/step - loss: 3.6506e-04 - root_mean_squared_error: 0.0191 - val_loss: 1.2013e-04 - val_root_mean_squared_error: 0.0110\n",
            "Epoch 112/500\n",
            "1/2 [==============>...............] - ETA: 0s - loss: 4.1737e-04 - root_mean_squared_error: 0.0204\n",
            "Epoch 112: val_loss did not improve from 0.00004\n",
            "2/2 [==============================] - 0s 54ms/step - loss: 3.6062e-04 - root_mean_squared_error: 0.0190 - val_loss: 2.3746e-04 - val_root_mean_squared_error: 0.0154\n",
            "Epoch 113/500\n",
            "1/2 [==============>...............] - ETA: 0s - loss: 3.2722e-04 - root_mean_squared_error: 0.0181\n",
            "Epoch 113: val_loss did not improve from 0.00004\n",
            "2/2 [==============================] - 0s 54ms/step - loss: 3.6277e-04 - root_mean_squared_error: 0.0190 - val_loss: 2.1336e-04 - val_root_mean_squared_error: 0.0146\n",
            "Epoch 114/500\n",
            "1/2 [==============>...............] - ETA: 0s - loss: 3.2698e-04 - root_mean_squared_error: 0.0181\n",
            "Epoch 114: val_loss did not improve from 0.00004\n",
            "2/2 [==============================] - 0s 52ms/step - loss: 3.6386e-04 - root_mean_squared_error: 0.0191 - val_loss: 1.1288e-04 - val_root_mean_squared_error: 0.0106\n",
            "Epoch 115/500\n",
            "1/2 [==============>...............] - ETA: 0s - loss: 3.3740e-04 - root_mean_squared_error: 0.0184\n",
            "Epoch 115: val_loss did not improve from 0.00004\n",
            "2/2 [==============================] - 0s 56ms/step - loss: 3.6065e-04 - root_mean_squared_error: 0.0190 - val_loss: 1.3295e-04 - val_root_mean_squared_error: 0.0115\n",
            "Epoch 116/500\n",
            "1/2 [==============>...............] - ETA: 0s - loss: 3.2634e-04 - root_mean_squared_error: 0.0181\n",
            "Epoch 116: val_loss did not improve from 0.00004\n",
            "2/2 [==============================] - 0s 54ms/step - loss: 3.5850e-04 - root_mean_squared_error: 0.0189 - val_loss: 1.9142e-04 - val_root_mean_squared_error: 0.0138\n",
            "Epoch 117/500\n",
            "1/2 [==============>...............] - ETA: 0s - loss: 3.8563e-04 - root_mean_squared_error: 0.0196\n",
            "Epoch 117: val_loss did not improve from 0.00004\n",
            "2/2 [==============================] - 0s 56ms/step - loss: 3.6399e-04 - root_mean_squared_error: 0.0191 - val_loss: 2.4197e-04 - val_root_mean_squared_error: 0.0156\n",
            "Epoch 118/500\n",
            "1/2 [==============>...............] - ETA: 0s - loss: 3.6851e-04 - root_mean_squared_error: 0.0192\n",
            "Epoch 118: val_loss did not improve from 0.00004\n",
            "2/2 [==============================] - 0s 54ms/step - loss: 3.6867e-04 - root_mean_squared_error: 0.0192 - val_loss: 1.2181e-04 - val_root_mean_squared_error: 0.0110\n",
            "Epoch 119/500\n",
            "1/2 [==============>...............] - ETA: 0s - loss: 3.7190e-04 - root_mean_squared_error: 0.0193\n",
            "Epoch 119: val_loss did not improve from 0.00004\n",
            "2/2 [==============================] - 0s 47ms/step - loss: 3.5933e-04 - root_mean_squared_error: 0.0190 - val_loss: 1.1595e-04 - val_root_mean_squared_error: 0.0108\n",
            "Epoch 120/500\n",
            "1/2 [==============>...............] - ETA: 0s - loss: 3.2899e-04 - root_mean_squared_error: 0.0181\n",
            "Epoch 120: val_loss did not improve from 0.00004\n",
            "2/2 [==============================] - 0s 54ms/step - loss: 3.5997e-04 - root_mean_squared_error: 0.0190 - val_loss: 1.0763e-04 - val_root_mean_squared_error: 0.0104\n",
            "Epoch 121/500\n",
            "1/2 [==============>...............] - ETA: 0s - loss: 3.3984e-04 - root_mean_squared_error: 0.0184\n",
            "Epoch 121: val_loss did not improve from 0.00004\n",
            "2/2 [==============================] - 0s 52ms/step - loss: 3.5953e-04 - root_mean_squared_error: 0.0190 - val_loss: 1.1185e-04 - val_root_mean_squared_error: 0.0106\n",
            "Epoch 122/500\n",
            "1/2 [==============>...............] - ETA: 0s - loss: 3.1532e-04 - root_mean_squared_error: 0.0178\n",
            "Epoch 122: val_loss did not improve from 0.00004\n",
            "2/2 [==============================] - 0s 51ms/step - loss: 3.5938e-04 - root_mean_squared_error: 0.0190 - val_loss: 1.2437e-04 - val_root_mean_squared_error: 0.0112\n",
            "Epoch 123/500\n",
            "1/2 [==============>...............] - ETA: 0s - loss: 3.8031e-04 - root_mean_squared_error: 0.0195\n",
            "Epoch 123: val_loss did not improve from 0.00004\n",
            "2/2 [==============================] - 0s 60ms/step - loss: 3.6216e-04 - root_mean_squared_error: 0.0190 - val_loss: 1.2036e-04 - val_root_mean_squared_error: 0.0110\n",
            "Epoch 124/500\n",
            "1/2 [==============>...............] - ETA: 0s - loss: 3.4474e-04 - root_mean_squared_error: 0.0186\n",
            "Epoch 124: val_loss did not improve from 0.00004\n",
            "2/2 [==============================] - 0s 54ms/step - loss: 3.6070e-04 - root_mean_squared_error: 0.0190 - val_loss: 1.1943e-04 - val_root_mean_squared_error: 0.0109\n",
            "Epoch 125/500\n",
            "1/2 [==============>...............] - ETA: 0s - loss: 2.9933e-04 - root_mean_squared_error: 0.0173\n",
            "Epoch 125: val_loss did not improve from 0.00004\n",
            "2/2 [==============================] - 0s 53ms/step - loss: 3.5987e-04 - root_mean_squared_error: 0.0190 - val_loss: 1.7872e-04 - val_root_mean_squared_error: 0.0134\n",
            "Epoch 126/500\n",
            "1/2 [==============>...............] - ETA: 0s - loss: 3.4109e-04 - root_mean_squared_error: 0.0185\n",
            "Epoch 126: val_loss did not improve from 0.00004\n",
            "2/2 [==============================] - 0s 59ms/step - loss: 3.6133e-04 - root_mean_squared_error: 0.0190 - val_loss: 1.6648e-04 - val_root_mean_squared_error: 0.0129\n",
            "Epoch 127/500\n",
            "1/2 [==============>...............] - ETA: 0s - loss: 3.4322e-04 - root_mean_squared_error: 0.0185\n",
            "Epoch 127: val_loss did not improve from 0.00004\n",
            "2/2 [==============================] - 0s 60ms/step - loss: 3.6120e-04 - root_mean_squared_error: 0.0190 - val_loss: 2.1213e-04 - val_root_mean_squared_error: 0.0146\n",
            "Epoch 128/500\n",
            "1/2 [==============>...............] - ETA: 0s - loss: 3.2142e-04 - root_mean_squared_error: 0.0179\n",
            "Epoch 128: val_loss did not improve from 0.00004\n",
            "2/2 [==============================] - 0s 58ms/step - loss: 3.6023e-04 - root_mean_squared_error: 0.0190 - val_loss: 2.3533e-04 - val_root_mean_squared_error: 0.0153\n",
            "Epoch 129/500\n",
            "1/2 [==============>...............] - ETA: 0s - loss: 2.3721e-04 - root_mean_squared_error: 0.0154\n",
            "Epoch 129: val_loss did not improve from 0.00004\n",
            "2/2 [==============================] - 0s 52ms/step - loss: 3.6088e-04 - root_mean_squared_error: 0.0190 - val_loss: 2.2189e-04 - val_root_mean_squared_error: 0.0149\n",
            "Epoch 130/500\n",
            "1/2 [==============>...............] - ETA: 0s - loss: 2.8804e-04 - root_mean_squared_error: 0.0170\n",
            "Epoch 130: val_loss did not improve from 0.00004\n",
            "2/2 [==============================] - 0s 53ms/step - loss: 3.5959e-04 - root_mean_squared_error: 0.0190 - val_loss: 1.2245e-04 - val_root_mean_squared_error: 0.0111\n",
            "Epoch 131/500\n",
            "1/2 [==============>...............] - ETA: 0s - loss: 3.8295e-04 - root_mean_squared_error: 0.0196\n",
            "Epoch 131: val_loss did not improve from 0.00004\n",
            "2/2 [==============================] - 0s 54ms/step - loss: 3.6026e-04 - root_mean_squared_error: 0.0190 - val_loss: 1.0565e-04 - val_root_mean_squared_error: 0.0103\n",
            "Epoch 132/500\n",
            "1/2 [==============>...............] - ETA: 0s - loss: 3.1923e-04 - root_mean_squared_error: 0.0179\n",
            "Epoch 132: val_loss did not improve from 0.00004\n",
            "2/2 [==============================] - 0s 59ms/step - loss: 3.5941e-04 - root_mean_squared_error: 0.0190 - val_loss: 1.6287e-04 - val_root_mean_squared_error: 0.0128\n",
            "Epoch 133/500\n",
            "1/2 [==============>...............] - ETA: 0s - loss: 3.2240e-04 - root_mean_squared_error: 0.0180\n",
            "Epoch 133: val_loss did not improve from 0.00004\n",
            "2/2 [==============================] - 0s 58ms/step - loss: 3.6109e-04 - root_mean_squared_error: 0.0190 - val_loss: 2.4607e-04 - val_root_mean_squared_error: 0.0157\n",
            "Epoch 134/500\n",
            "1/2 [==============>...............] - ETA: 0s - loss: 2.2993e-04 - root_mean_squared_error: 0.0152\n",
            "Epoch 134: val_loss did not improve from 0.00004\n",
            "2/2 [==============================] - 0s 59ms/step - loss: 3.6424e-04 - root_mean_squared_error: 0.0191 - val_loss: 1.5260e-04 - val_root_mean_squared_error: 0.0124\n",
            "Epoch 135/500\n",
            "1/2 [==============>...............] - ETA: 0s - loss: 4.1009e-04 - root_mean_squared_error: 0.0203\n",
            "Epoch 135: val_loss did not improve from 0.00004\n",
            "2/2 [==============================] - 0s 56ms/step - loss: 3.5649e-04 - root_mean_squared_error: 0.0189 - val_loss: 5.6783e-05 - val_root_mean_squared_error: 0.0075\n",
            "Epoch 136/500\n",
            "1/2 [==============>...............] - ETA: 0s - loss: 3.9024e-04 - root_mean_squared_error: 0.0198\n",
            "Epoch 136: val_loss did not improve from 0.00004\n",
            "2/2 [==============================] - 0s 51ms/step - loss: 3.6986e-04 - root_mean_squared_error: 0.0192 - val_loss: 8.0392e-05 - val_root_mean_squared_error: 0.0090\n",
            "Epoch 137/500\n",
            "1/2 [==============>...............] - ETA: 0s - loss: 3.7438e-04 - root_mean_squared_error: 0.0193\n",
            "Epoch 137: val_loss did not improve from 0.00004\n",
            "2/2 [==============================] - 0s 66ms/step - loss: 3.6245e-04 - root_mean_squared_error: 0.0190 - val_loss: 2.6762e-04 - val_root_mean_squared_error: 0.0164\n",
            "Epoch 138/500\n",
            "1/2 [==============>...............] - ETA: 0s - loss: 3.8316e-04 - root_mean_squared_error: 0.0196\n",
            "Epoch 138: val_loss did not improve from 0.00004\n",
            "2/2 [==============================] - 0s 53ms/step - loss: 3.6489e-04 - root_mean_squared_error: 0.0191 - val_loss: 2.2700e-04 - val_root_mean_squared_error: 0.0151\n",
            "Epoch 139/500\n",
            "1/2 [==============>...............] - ETA: 0s - loss: 3.9373e-04 - root_mean_squared_error: 0.0198\n",
            "Epoch 139: val_loss did not improve from 0.00004\n",
            "2/2 [==============================] - 0s 50ms/step - loss: 3.5797e-04 - root_mean_squared_error: 0.0189 - val_loss: 1.0138e-04 - val_root_mean_squared_error: 0.0101\n",
            "Epoch 140/500\n",
            "1/2 [==============>...............] - ETA: 0s - loss: 3.6837e-04 - root_mean_squared_error: 0.0192\n",
            "Epoch 140: val_loss did not improve from 0.00004\n",
            "2/2 [==============================] - 0s 49ms/step - loss: 3.6369e-04 - root_mean_squared_error: 0.0191 - val_loss: 7.5653e-05 - val_root_mean_squared_error: 0.0087\n",
            "Epoch 141/500\n",
            "1/2 [==============>...............] - ETA: 0s - loss: 4.3752e-04 - root_mean_squared_error: 0.0209\n",
            "Epoch 141: val_loss did not improve from 0.00004\n",
            "2/2 [==============================] - 0s 56ms/step - loss: 3.6132e-04 - root_mean_squared_error: 0.0190 - val_loss: 1.8234e-04 - val_root_mean_squared_error: 0.0135\n",
            "Epoch 142/500\n",
            "1/2 [==============>...............] - ETA: 0s - loss: 2.6735e-04 - root_mean_squared_error: 0.0164\n",
            "Epoch 142: val_loss did not improve from 0.00004\n",
            "2/2 [==============================] - 0s 54ms/step - loss: 3.6541e-04 - root_mean_squared_error: 0.0191 - val_loss: 2.7631e-04 - val_root_mean_squared_error: 0.0166\n",
            "Epoch 143/500\n",
            "1/2 [==============>...............] - ETA: 0s - loss: 4.1665e-04 - root_mean_squared_error: 0.0204\n",
            "Epoch 143: val_loss did not improve from 0.00004\n",
            "2/2 [==============================] - 0s 57ms/step - loss: 3.5995e-04 - root_mean_squared_error: 0.0190 - val_loss: 1.2754e-04 - val_root_mean_squared_error: 0.0113\n",
            "Epoch 143: early stopping\n"
          ]
        }
      ]
    },
    {
      "cell_type": "code",
      "source": [
        "# Model evaluation\n",
        "test_predicted = model.predict(X_test)"
      ],
      "metadata": {
        "id": "pb7syksNmRhG"
      },
      "execution_count": 78,
      "outputs": []
    },
    {
      "cell_type": "code",
      "source": [
        "# Apply inverse transformation\n",
        "test_predicted= scaler.inverse_transform(test_predicted)\n",
        "#Y_test = scaler.inverse_transform(Y_test)\n",
        "#test_predicted = test_predicted.reshape(test_predicted.shape[0],test_predicted.shape[1])\n",
        "#test_predicted.shape"
      ],
      "metadata": {
        "id": "--JQahZGmRml"
      },
      "execution_count": 79,
      "outputs": []
    },
    {
      "cell_type": "code",
      "source": [
        "#Y_test.shape\n",
        "#test_predicted.shape\n",
        "#test_predicted = test_predicted.reshape(test_predicted.shape[0])\n",
        "test_predicted"
      ],
      "metadata": {
        "colab": {
          "base_uri": "https://localhost:8080/"
        },
        "id": "RS0Msv5LZbtT",
        "outputId": "c83e6d1e-1470-47b4-eff7-c70c2d82eda2"
      },
      "execution_count": 89,
      "outputs": [
        {
          "output_type": "execute_result",
          "data": {
            "text/plain": [
              "array([222.55663, 223.38861, 224.32755, 225.43228, 226.41525, 227.15703,\n",
              "       227.90218, 228.52032, 229.32317, 230.21187, 231.20364, 232.28741,\n",
              "       233.37494, 234.44821, 235.61697, 236.88129, 238.33109, 239.7339 ],\n",
              "      dtype=float32)"
            ]
          },
          "metadata": {},
          "execution_count": 89
        }
      ]
    },
    {
      "cell_type": "code",
      "source": [
        "# Re-populate Y_test\n",
        "#X_test, Y_test = create_dmatrix(test_set, time_step)\n",
        "#Y_test = Y_test.reshape(test_predicted.shape[0],1)\n",
        "#Y_test = scaler.inverse_transform(Y_test)\n",
        "Y_test = Y_test.reshape(-1)\n",
        "Y_test"
      ],
      "metadata": {
        "colab": {
          "base_uri": "https://localhost:8080/"
        },
        "id": "EQEQ4jxRdRT6",
        "outputId": "656a13a8-ecc4-428a-c37c-e7aff9babc52"
      },
      "execution_count": 117,
      "outputs": [
        {
          "output_type": "execute_result",
          "data": {
            "text/plain": [
              "array([219.14463903, 219.79275285, 220.57041794, 221.70518811,\n",
              "       222.92313866, 223.79606296, 224.7245786 , 225.43047908,\n",
              "       227.02634156, 229.16505202, 230.73607244, 231.45046524,\n",
              "       231.83269223, 232.80002415, 235.63291781, 238.22681998,\n",
              "       241.91043322, 245.02071711])"
            ]
          },
          "metadata": {},
          "execution_count": 117
        }
      ]
    },
    {
      "cell_type": "code",
      "source": [
        "# Reshape Y_test to 2D\n",
        "Y_test = Y_test.reshape(test_predicted.shape[0],1)\n",
        "Y_test = scaler.inverse_transform(Y_test)\n",
        "\n",
        "# Reshape back to 1D\n",
        "Y_test = Y_test.reshape(test_predicted.shape[0])\n",
        "Y_test"
      ],
      "metadata": {
        "colab": {
          "base_uri": "https://localhost:8080/"
        },
        "id": "oORwiQCfb4fa",
        "outputId": "cbee3865-d301-4e9c-aa9a-d4bce8b363ce"
      },
      "execution_count": 93,
      "outputs": [
        {
          "output_type": "execute_result",
          "data": {
            "text/plain": [
              "array([4.95993694e+10, 4.97453658e+10, 4.99205454e+10, 5.01761677e+10,\n",
              "       5.04505275e+10, 5.06471655e+10, 5.08563262e+10, 5.10153398e+10,\n",
              "       5.13748294e+10, 5.18566029e+10, 5.22104964e+10, 5.23714231e+10,\n",
              "       5.24575249e+10, 5.26754295e+10, 5.33135770e+10, 5.38978885e+10,\n",
              "       5.47276722e+10, 5.54283057e+10])"
            ]
          },
          "metadata": {},
          "execution_count": 93
        }
      ]
    },
    {
      "cell_type": "code",
      "source": [
        "# Calculate RMSE\n",
        "math.sqrt(mean_squared_error(Y_test,test_predicted))\n"
      ],
      "metadata": {
        "id": "qZQEG9Z3pLkh",
        "colab": {
          "base_uri": "https://localhost:8080/"
        },
        "outputId": "18799ae0-0958-469f-b5a6-022acedc4899"
      },
      "execution_count": 118,
      "outputs": [
        {
          "output_type": "execute_result",
          "data": {
            "text/plain": [
              "2.8932155806631297"
            ]
          },
          "metadata": {},
          "execution_count": 118
        }
      ]
    },
    {
      "cell_type": "code",
      "source": [
        "#test_predicted = test_predicted.reshape(-1, 1)\n",
        "#test_predicted\n",
        "test_predicted"
      ],
      "metadata": {
        "colab": {
          "base_uri": "https://localhost:8080/"
        },
        "id": "RRrYOIDqfulR",
        "outputId": "9d27f8a2-9c6f-44f4-e4ed-a29f7cae8416"
      },
      "execution_count": 140,
      "outputs": [
        {
          "output_type": "execute_result",
          "data": {
            "text/plain": [
              "array([[222.55663],\n",
              "       [223.38861],\n",
              "       [224.32755],\n",
              "       [225.43228],\n",
              "       [226.41525],\n",
              "       [227.15703],\n",
              "       [227.90218],\n",
              "       [228.52032],\n",
              "       [229.32317],\n",
              "       [230.21187],\n",
              "       [231.20364],\n",
              "       [232.28741],\n",
              "       [233.37494],\n",
              "       [234.44821],\n",
              "       [235.61697],\n",
              "       [236.88129],\n",
              "       [238.33109],\n",
              "       [239.7339 ]], dtype=float32)"
            ]
          },
          "metadata": {},
          "execution_count": 140
        }
      ]
    },
    {
      "cell_type": "code",
      "source": [
        "training_predicted = model.predict(X_train)\n",
        "validation_predicted = model.predict(X_val)"
      ],
      "metadata": {
        "id": "AB30iYuZmfZu"
      },
      "execution_count": 143,
      "outputs": []
    },
    {
      "cell_type": "code",
      "source": [
        "#training_predicted = scaler.inverse_transform(training_predicted)\n",
        "#training_predicted.shape\n",
        "#validation_predicted = scaler.inverse_transform(validation_predicted)\n",
        "#validation_predicted.shape\n",
        "print(scaler.inverse_transform(validation_set))"
      ],
      "metadata": {
        "colab": {
          "base_uri": "https://localhost:8080/"
        },
        "id": "Ymap5AWCmtC_",
        "outputId": "34c9a391-dda5-4def-db46-1d56ba764f11"
      },
      "execution_count": 167,
      "outputs": [
        {
          "output_type": "stream",
          "name": "stdout",
          "text": [
            "[[195.52227904]\n",
            " [196.56334956]\n",
            " [197.21897219]\n",
            " [198.96773997]\n",
            " [200.01970483]\n",
            " [201.95115829]\n",
            " [203.03163447]\n",
            " [204.65713353]\n",
            " [205.50370861]\n",
            " [206.36003519]\n",
            " [206.93065877]\n",
            " [207.71988729]\n",
            " [209.17786562]\n",
            " [210.20798447]\n",
            " [211.30094292]\n",
            " [212.29424721]]\n"
          ]
        }
      ]
    },
    {
      "cell_type": "code",
      "source": [
        "# Plotting everything together\n",
        "# Setting the intervals \n",
        "\n",
        "# shift training predictions for plotting\n",
        "training_predicted_plot = np.empty_like(df1)\n",
        "training_predicted_plot[:, :] = np.nan\n",
        "#training_predicted.shape\n",
        "training_predicted_plot[0:55, :] = training_predicted\n",
        "\n",
        "# shift validation predictions for plotting\n",
        "val_predicted_plot = np.empty_like(df1)\n",
        "val_predicted_plot[:, :] = np.nan\n",
        "#validation_predicted.shape\n",
        "val_predicted_plot[69:76, :] = validation_predicted\n",
        "\n",
        "\n",
        "# shift test predictions for plotting\n",
        "test_predicted_plot = np.empty_like(df1)\n",
        "test_predicted_plot[:, :] = np.nan\n",
        "#test_predicted.shape\n",
        "test_predicted_plot[89:107, :] = test_predicted\n",
        "\n",
        "# plot baseline and predictions\n",
        "plt.plot(scaler.inverse_transform(df1), label = \"Real Data\")\n",
        "plt.plot(test_predicted_plot, label = \"Predicted Data for Test Set\")\n",
        "plt.plot(val_predicted_plot, label = \"Predicted Data for Validation Set\")\n",
        "plt.plot(training_predicted_plot, label = \"Predicted Data for Training Set\")\n",
        "plt.legend()\n",
        "plt.show()"
      ],
      "metadata": {
        "id": "475ZyW85pnN0",
        "colab": {
          "base_uri": "https://localhost:8080/",
          "height": 265
        },
        "outputId": "459f496f-959c-4210-8b7c-34c4264bbad7"
      },
      "execution_count": 169,
      "outputs": [
        {
          "output_type": "display_data",
          "data": {
            "text/plain": [
              "<Figure size 432x288 with 1 Axes>"
            ],
            "image/png": "[encoded data removed]"
          },
          "metadata": {
            "needs_background": "light"
          }
        }
      ]
    }
  ]
}