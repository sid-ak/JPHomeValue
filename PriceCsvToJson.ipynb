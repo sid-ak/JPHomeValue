{
  "nbformat": 4,
  "nbformat_minor": 0,
  "metadata": {
    "colab": {
      "name": "PriceCsvToJson.ipynb",
      "provenance": []
    },
    "kernelspec": {
      "name": "python3",
      "display_name": "Python 3"
    },
    "language_info": {
      "name": "python"
    }
  },
  "cells": [
    {
      "cell_type": "code",
      "execution_count": 46,
      "metadata": {
        "id": "15hdm39CNAhE"
      },
      "outputs": [],
      "source": [
        "import json\n",
        "import csv\n",
        "import pandas as pd"
      ]
    },
    {
      "cell_type": "code",
      "source": [
        "df = pd.read_csv('Path to csv')\n",
        "\n",
        "#initialize struct\n",
        "data = {\"Address\": [{\"currentAddress\": [{\"PriceData\":[{\"Date\":\"any\", \"currIndex\":\"any\", \"PriceInfo\":[{\"Timeframe\":0,\"Price\":\"any\"},{\"Timeframe\":3,\"Price\":\"any\"},{\"Timeframe\":6,\"Price\":\"any\"},{\"Timeframe\":12,\"Price\":\"any\"}]}]}]}]}"
      ],
      "metadata": {
        "id": "fqFQeymTNPXC"
      },
      "execution_count": 51,
      "outputs": []
    },
    {
      "cell_type": "code",
      "source": [
        "for i in range(df.shape[1]-3):\n",
        "  houseAddress = df.columns.values[i+3]\n",
        "  #print(houseAddress)\n",
        "  #index is 'ATNHPIUS45300Q' for st pete and clearwater and 'TPXRSA' for tampa\n",
        "  data[\"Address\"].append({houseAddress:[{\"PriceData\":[{\"Date\":df['DATE'][0], \"currIndex\":df['TPXRSA'][0], \"PriceInfo\":[{\"Timeframe\":0, \"Price\": df[houseAddress][0]}, {\"Timeframe\":3, \"Price\": df[houseAddress][3]}, {\"Timeframe\":6, \"Price\": df[houseAddress][6]}, {\"Timeframe\":12, \"Price\": df[houseAddress][12]}]}]}]})\n",
        "  for j in range(df.shape[0]-1):\n",
        "    try:\n",
        "      month3 = df[houseAddress][3+(j+1)];\n",
        "    except:\n",
        "      month3 = \"Not Available\"\n",
        "    try:\n",
        "      month6 = df[houseAddress][6+(j+1)];\n",
        "    except:\n",
        "      month6 = \"Not Available\"\n",
        "    try:\n",
        "      month12 = df[houseAddress][12+(j+1)];\n",
        "    except:\n",
        "      month12 = \"Not Available\"\n",
        "    #index is 'ATNHPIUS45300Q' for st pete and clearwater and 'TPXRSA' for tampa\n",
        "    data[\"Address\"][i+1][houseAddress].append({\"PriceData\":[{\"Date\":df['DATE'][j+1], \"currIndex\":df['TPXRSA'][j+1], \"PriceInfo\":[{\"Timeframe\":0, \"Price\": df[houseAddress][j+1]}, {\"Timeframe\":3, \"Price\": month3}, {\"Timeframe\":6, \"Price\": month6}, {\"Timeframe\":12, \"Price\": month12}]}]})\n",
        "  with open(\"path to output json\", \"w\") as jsonf:\n",
        "    json.dump(data, jsonf, indent=4)"
      ],
      "metadata": {
        "id": "lB9E5nghOfNO"
      },
      "execution_count": 53,
      "outputs": []
    }
  ]
}