{
  "nbformat": 4,
  "nbformat_minor": 0,
  "metadata": {
    "colab": {
      "name": "DBConnection.ipynb",
      "provenance": []
    },
    "kernelspec": {
      "name": "python3",
      "display_name": "Python 3"
    },
    "language_info": {
      "name": "python"
    }
  },
  "cells": [
    {
      "cell_type": "code",
      "execution_count": null,
      "metadata": {
        "id": "73iHi_lHt-pY"
      },
      "outputs": [],
      "source": [
        "#imports\n",
        "import firebase_admin\n",
        "from firebase_admin import credentials\n",
        "from firebase_admin import db\n",
        "import json"
      ]
    },
    {
      "cell_type": "code",
      "source": [
        "#connecting to database for writing\n",
        "def connectToDb():\n",
        "  #use your own credentials\n",
        "  cred = firebase_admin.credentials.Certificate('path to json credentials here')\n",
        "  init_app = firebase_admin.initialize_app(cred, {\n",
        "      'databaseURL': \"https://jphomevalue-default-rtdb.firebaseio.com/\" \n",
        "  })"
      ],
      "metadata": {
        "id": "rrm88LowuUMd"
      },
      "execution_count": null,
      "outputs": []
    },
    {
      "cell_type": "code",
      "source": [
        "#Function to write JSON data into DB\n",
        "def writeData(jsonFilePath)\n",
        "{\n",
        "  #add path to where you want to write the data here (e.g. /test/AddressData/ClearwaterAddressData/addressData)\n",
        "  ref = db.reference('') #/test is test branch on db / is main\n",
        "  #writing to database\n",
        "  with open(jsonFilePath, \"r\") as f:\n",
        "    file_contents = json.load(f)\n",
        "  ref.set(file_contents)\n",
        "}"
      ],
      "metadata": {
        "id": "C8lQTsmhuK8E"
      },
      "execution_count": null,
      "outputs": []
    },
    {
      "cell_type": "code",
      "source": [
        "#Driver Code\n",
        "connectToDb()\n",
        "jsonFilePath = 'e.g. /home/jp/test.json'\n",
        "writeData(jsonFilePath)"
      ],
      "metadata": {
        "id": "00MfkoOvurox"
      },
      "execution_count": null,
      "outputs": []
    }
  ]
}