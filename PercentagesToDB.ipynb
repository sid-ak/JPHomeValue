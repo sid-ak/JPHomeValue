{
  "nbformat": 4,
  "nbformat_minor": 0,
  "metadata": {
    "colab": {
      "name": "PercentagesToDB.ipynb",
      "provenance": [],
      "collapsed_sections": []
    },
    "kernelspec": {
      "name": "python3",
      "display_name": "Python 3"
    },
    "language_info": {
      "name": "python"
    }
  },
  "cells": [
    {
      "cell_type": "code",
      "execution_count": null,
      "metadata": {
        "colab": {
          "base_uri": "https://localhost:8080/"
        },
        "id": "ucr9VxDqtNlK",
        "outputId": "8c4fe713-26a6-4616-a8de-a9924528872b"
      },
      "outputs": [
        {
          "output_type": "stream",
          "name": "stdout",
          "text": [
            "Requirement already satisfied: firebase-admin in /usr/local/lib/python3.7/dist-packages (4.4.0)\n",
            "Requirement already satisfied: cachecontrol>=0.12.6 in /usr/local/lib/python3.7/dist-packages (from firebase-admin) (0.12.10)\n",
            "Requirement already satisfied: google-api-core[grpc]<2.0.0dev,>=1.14.0 in /usr/local/lib/python3.7/dist-packages (from firebase-admin) (1.31.5)\n",
            "Requirement already satisfied: google-cloud-storage>=1.18.0 in /usr/local/lib/python3.7/dist-packages (from firebase-admin) (1.18.1)\n",
            "Requirement already satisfied: google-api-python-client>=1.7.8 in /usr/local/lib/python3.7/dist-packages (from firebase-admin) (1.12.11)\n",
            "Requirement already satisfied: google-cloud-firestore>=1.4.0 in /usr/local/lib/python3.7/dist-packages (from firebase-admin) (1.7.0)\n",
            "Requirement already satisfied: msgpack>=0.5.2 in /usr/local/lib/python3.7/dist-packages (from cachecontrol>=0.12.6->firebase-admin) (1.0.3)\n",
            "Requirement already satisfied: requests in /usr/local/lib/python3.7/dist-packages (from cachecontrol>=0.12.6->firebase-admin) (2.23.0)\n",
            "Requirement already satisfied: packaging>=14.3 in /usr/local/lib/python3.7/dist-packages (from google-api-core[grpc]<2.0.0dev,>=1.14.0->firebase-admin) (21.3)\n",
            "Requirement already satisfied: protobuf>=3.12.0 in /usr/local/lib/python3.7/dist-packages (from google-api-core[grpc]<2.0.0dev,>=1.14.0->firebase-admin) (3.17.3)\n",
            "Requirement already satisfied: googleapis-common-protos<2.0dev,>=1.6.0 in /usr/local/lib/python3.7/dist-packages (from google-api-core[grpc]<2.0.0dev,>=1.14.0->firebase-admin) (1.56.0)\n",
            "Requirement already satisfied: google-auth<2.0dev,>=1.25.0 in /usr/local/lib/python3.7/dist-packages (from google-api-core[grpc]<2.0.0dev,>=1.14.0->firebase-admin) (1.35.0)\n",
            "Requirement already satisfied: six>=1.13.0 in /usr/local/lib/python3.7/dist-packages (from google-api-core[grpc]<2.0.0dev,>=1.14.0->firebase-admin) (1.15.0)\n",
            "Requirement already satisfied: pytz in /usr/local/lib/python3.7/dist-packages (from google-api-core[grpc]<2.0.0dev,>=1.14.0->firebase-admin) (2022.1)\n",
            "Requirement already satisfied: setuptools>=40.3.0 in /usr/local/lib/python3.7/dist-packages (from google-api-core[grpc]<2.0.0dev,>=1.14.0->firebase-admin) (57.4.0)\n",
            "Requirement already satisfied: grpcio<2.0dev,>=1.29.0 in /usr/local/lib/python3.7/dist-packages (from google-api-core[grpc]<2.0.0dev,>=1.14.0->firebase-admin) (1.44.0)\n",
            "Requirement already satisfied: uritemplate<4dev,>=3.0.0 in /usr/local/lib/python3.7/dist-packages (from google-api-python-client>=1.7.8->firebase-admin) (3.0.1)\n",
            "Requirement already satisfied: httplib2<1dev,>=0.15.0 in /usr/local/lib/python3.7/dist-packages (from google-api-python-client>=1.7.8->firebase-admin) (0.17.4)\n",
            "Requirement already satisfied: google-auth-httplib2>=0.0.3 in /usr/local/lib/python3.7/dist-packages (from google-api-python-client>=1.7.8->firebase-admin) (0.0.4)\n",
            "Requirement already satisfied: pyasn1-modules>=0.2.1 in /usr/local/lib/python3.7/dist-packages (from google-auth<2.0dev,>=1.25.0->google-api-core[grpc]<2.0.0dev,>=1.14.0->firebase-admin) (0.2.8)\n",
            "Requirement already satisfied: rsa<5,>=3.1.4 in /usr/local/lib/python3.7/dist-packages (from google-auth<2.0dev,>=1.25.0->google-api-core[grpc]<2.0.0dev,>=1.14.0->firebase-admin) (4.8)\n",
            "Requirement already satisfied: cachetools<5.0,>=2.0.0 in /usr/local/lib/python3.7/dist-packages (from google-auth<2.0dev,>=1.25.0->google-api-core[grpc]<2.0.0dev,>=1.14.0->firebase-admin) (4.2.4)\n",
            "Requirement already satisfied: google-cloud-core<2.0dev,>=1.0.3 in /usr/local/lib/python3.7/dist-packages (from google-cloud-firestore>=1.4.0->firebase-admin) (1.0.3)\n",
            "Requirement already satisfied: google-resumable-media<0.5.0dev,>=0.3.1 in /usr/local/lib/python3.7/dist-packages (from google-cloud-storage>=1.18.0->firebase-admin) (0.4.1)\n",
            "Requirement already satisfied: pyparsing!=3.0.5,>=2.0.2 in /usr/local/lib/python3.7/dist-packages (from packaging>=14.3->google-api-core[grpc]<2.0.0dev,>=1.14.0->firebase-admin) (3.0.8)\n",
            "Requirement already satisfied: pyasn1<0.5.0,>=0.4.6 in /usr/local/lib/python3.7/dist-packages (from pyasn1-modules>=0.2.1->google-auth<2.0dev,>=1.25.0->google-api-core[grpc]<2.0.0dev,>=1.14.0->firebase-admin) (0.4.8)\n",
            "Requirement already satisfied: urllib3!=1.25.0,!=1.25.1,<1.26,>=1.21.1 in /usr/local/lib/python3.7/dist-packages (from requests->cachecontrol>=0.12.6->firebase-admin) (1.24.3)\n",
            "Requirement already satisfied: idna<3,>=2.5 in /usr/local/lib/python3.7/dist-packages (from requests->cachecontrol>=0.12.6->firebase-admin) (2.10)\n",
            "Requirement already satisfied: certifi>=2017.4.17 in /usr/local/lib/python3.7/dist-packages (from requests->cachecontrol>=0.12.6->firebase-admin) (2021.10.8)\n",
            "Requirement already satisfied: chardet<4,>=3.0.2 in /usr/local/lib/python3.7/dist-packages (from requests->cachecontrol>=0.12.6->firebase-admin) (3.0.4)\n"
          ]
        }
      ],
      "source": [
        "#necessary pip install to use firebase-admin library\n",
        "!pip install firebase-admin"
      ]
    },
    {
      "cell_type": "code",
      "source": [
        "#imports\n",
        "import firebase_admin\n",
        "from firebase_admin import credentials\n",
        "from firebase_admin import db\n",
        "import csv\n",
        "import json"
      ],
      "metadata": {
        "id": "0FHs6sONtjqY"
      },
      "execution_count": null,
      "outputs": []
    },
    {
      "cell_type": "code",
      "source": [
        "#function converting from csv to json\n",
        "def convertPercentageCsvToJson(csvFilePath, jsonFilePath):\n",
        "  i = 0\n",
        "  #step 1: create a directory\n",
        "  data = {}\n",
        "\n",
        "  #step 2: create csv reader\n",
        "  with open(csvFilePath, encoding = 'utf-8') as csvf:\n",
        "    csvReader = csv.DictReader(csvf)\n",
        "    for rows in csvReader:\n",
        "      key = i\n",
        "      data[key] = rows\n",
        "      i = i + 1\n",
        "\n",
        "  #step 3: create a json writer\n",
        "  with open(jsonFilePath, 'w', encoding = 'utf-8') as jsonf:\n",
        "    jsonf.write(json.dumps(data, indent = 4))\n",
        "    "
      ],
      "metadata": {
        "id": "2fvwlJretn_R"
      },
      "execution_count": null,
      "outputs": []
    },
    {
      "cell_type": "code",
      "source": [
        "#connecting to database for writing\n",
        "def connectToDb():\n",
        "  #use your own credentials\n",
        "  cred = firebase_admin.credentials.Certificate('path to credentials')\n",
        "  init_app = firebase_admin.initialize_app(cred, {\n",
        "      'databaseURL': \"https://jphomevalue-default-rtdb.firebaseio.com/\" \n",
        "  })"
      ],
      "metadata": {
        "id": "Ec3JkGV-tx_M"
      },
      "execution_count": null,
      "outputs": []
    },
    {
      "cell_type": "code",
      "source": [
        "#function for writing tampa percentages\n",
        "def writeTampaPercentage(jsonFilePath):\n",
        "  #creating reference to clearwater address data\n",
        "  ref = db.reference('/Model/Percentages/Tampa') #/test is test branch on db / is main\n",
        "  #writing to database\n",
        "  with open(jsonFilePath, \"r\") as f:\n",
        "    file_contents = json.load(f)\n",
        "  ref.set(file_contents)\n",
        "\n",
        "  print(file_contents)"
      ],
      "metadata": {
        "id": "UzwnePeeuCsh"
      },
      "execution_count": null,
      "outputs": []
    },
    {
      "cell_type": "code",
      "source": [
        "#function for writing clearwater and st pete percentages\n",
        "def writeStPeteClearwaterPercentage(jsonFilePath):\n",
        "  #creating reference to clearwater address data\n",
        "  ref = db.reference('/Model/Percentages/ClearwaterStPete') #/test is test branch on db / is main\n",
        "  #writing to database\n",
        "  with open(jsonFilePath, \"r\") as f:\n",
        "    file_contents = json.load(f)\n",
        "  ref.set(file_contents)\n",
        "\n",
        "  print(file_contents)"
      ],
      "metadata": {
        "id": "u43HlXBnu_Gu"
      },
      "execution_count": null,
      "outputs": []
    },
    {
      "cell_type": "code",
      "source": [
        "#driver code\n",
        "\n",
        "#connect to db\n",
        "if not firebase_admin.get_app(): #comment out this line if first time running\n",
        "  connectToDb()\n",
        "\n",
        "#establish clearwater paths\n",
        "csvFilePath = r'/home/Clearwater-Stpete-predictions.csv' #path to csv that you'd like to convert\n",
        "jsonFilePath = r'/home/Clearwater-Stpete-predictions.json' #resulting json path\n",
        "\n",
        "convertPercentageCsvToJson(csvFilePath, jsonFilePath)\n",
        "writeStPeteClearwaterPercentage(jsonFilePath)\n",
        "\n",
        "#establish clearwater paths\n",
        "csvFilePath = r'/home/Tampa_Pred.csv' #path to csv that you'd like to convert\n",
        "jsonFilePath = r'/home/Tampa_Pred.json' #resulting json path\n",
        "\n",
        "convertPercentageCsvToJson(csvFilePath, jsonFilePath)\n",
        "writeTampaPercentage(jsonFilePath)"
      ],
      "metadata": {
        "colab": {
          "base_uri": "https://localhost:8080/"
        },
        "id": "zvoDRD-YvADU",
        "outputId": "5b171d90-5bb4-4625-e5ff-58cc1f520a51"
      },
      "execution_count": null,
      "outputs": [
        {
          "output_type": "stream",
          "name": "stdout",
          "text": [
            "{'0': {'Interval Dates': '2009-12 - 2021-11', 'RMSPE': '8.272450134', 'Best Predicition': '0.035296836', 'Worst Prediction': '28.24275567'}, '1': {'Interval Dates': '2011-12 - 2021-11', 'RMSPE': '7.486122485', 'Best Predicition': '0.015750299', 'Worst Prediction': '28.26261805'}, '2': {'Interval Dates': '2015-12 - 2021-11', 'RMSPE': '3.343844319', 'Best Predicition': '0.026245832', 'Worst Prediction': '10.02162564'}}\n",
            "{'0': {'Interval Date': '2012-1 - 2021-12', 'RMSPE': '4.471264494', 'Best Predicition': '0.116584', 'Worst Perdicition': '15.83757715'}, '1': {'Interval Date': '2014-1 - 2021-12', 'RMSPE': '3.819875649', 'Best Predicition': '0.005287579', 'Worst Perdicition': '13.89525252'}, '2': {'Interval Date': '2016-1 - 2021-12', 'RMSPE': '3.720664296', 'Best Predicition': '0.082976597', 'Worst Perdicition': '7.055809191'}}\n"
          ]
        }
      ]
    }
  ]
}